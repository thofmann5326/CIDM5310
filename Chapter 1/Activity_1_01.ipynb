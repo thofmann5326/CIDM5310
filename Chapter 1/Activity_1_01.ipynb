{
  "cells": [
    {
      "cell_type": "markdown",
      "metadata": {
        "id": "Cxd7O-xY190A"
      },
      "source": [
        "### Activity 1.01 – comparing sales data for two stores"
      ]
    },
    {
      "cell_type": "markdown",
      "metadata": {
        "id": "ELuwKsJ16WoF"
      },
      "source": [
        "## Setup and importing csv"
      ]
    },
    {
      "cell_type": "code",
      "execution_count": 13,
      "metadata": {
        "id": "MgUeA4BP2RTI"
      },
      "outputs": [],
      "source": [
        "import pandas as pd\n",
        "import random"
      ]
    },
    {
      "cell_type": "markdown",
      "metadata": {
        "id": "LlfU499A2UX3"
      },
      "source": [
        "Read the csv files"
      ]
    },
    {
      "cell_type": "code",
      "execution_count": 14,
      "metadata": {
        "colab": {
          "base_uri": "https://localhost:8080/",
          "height": 206
        },
        "id": "wGq4VL0I2XVv",
        "outputId": "d61f329f-d67a-4f8a-940d-43107ab506b0"
      },
      "outputs": [
        {
          "data": {
            "text/html": [
              "<div>\n",
              "<style scoped>\n",
              "    .dataframe tbody tr th:only-of-type {\n",
              "        vertical-align: middle;\n",
              "    }\n",
              "\n",
              "    .dataframe tbody tr th {\n",
              "        vertical-align: top;\n",
              "    }\n",
              "\n",
              "    .dataframe thead th {\n",
              "        text-align: right;\n",
              "    }\n",
              "</style>\n",
              "<table border=\"1\" class=\"dataframe\">\n",
              "  <thead>\n",
              "    <tr style=\"text-align: right;\">\n",
              "      <th></th>\n",
              "      <th>Months</th>\n",
              "      <th>Grocery_sales</th>\n",
              "      <th>Stationary_sales</th>\n",
              "    </tr>\n",
              "  </thead>\n",
              "  <tbody>\n",
              "    <tr>\n",
              "      <th>0</th>\n",
              "      <td>Jan</td>\n",
              "      <td>16</td>\n",
              "      <td>57</td>\n",
              "    </tr>\n",
              "    <tr>\n",
              "      <th>1</th>\n",
              "      <td>Jan</td>\n",
              "      <td>44</td>\n",
              "      <td>139</td>\n",
              "    </tr>\n",
              "    <tr>\n",
              "      <th>2</th>\n",
              "      <td>Jan</td>\n",
              "      <td>15</td>\n",
              "      <td>85</td>\n",
              "    </tr>\n",
              "    <tr>\n",
              "      <th>3</th>\n",
              "      <td>Jan</td>\n",
              "      <td>59</td>\n",
              "      <td>8</td>\n",
              "    </tr>\n",
              "    <tr>\n",
              "      <th>4</th>\n",
              "      <td>Jan</td>\n",
              "      <td>36</td>\n",
              "      <td>106</td>\n",
              "    </tr>\n",
              "  </tbody>\n",
              "</table>\n",
              "</div>"
            ],
            "text/plain": [
              "  Months  Grocery_sales  Stationary_sales\n",
              "0    Jan             16                57\n",
              "1    Jan             44               139\n",
              "2    Jan             15                85\n",
              "3    Jan             59                 8\n",
              "4    Jan             36               106"
            ]
          },
          "execution_count": 14,
          "metadata": {},
          "output_type": "execute_result"
        }
      ],
      "source": [
        "#loading store 1\n",
        "Store1 = pd.read_csv('..\\Chapter 1\\Datasets\\Store1.csv')\n",
        "Store1.head()"
      ]
    },
    {
      "cell_type": "code",
      "execution_count": 15,
      "metadata": {
        "colab": {
          "base_uri": "https://localhost:8080/",
          "height": 206
        },
        "id": "9rJljoCg22ST",
        "outputId": "58b49f18-5bcb-4d37-c01c-8b19ecbb45a2"
      },
      "outputs": [
        {
          "data": {
            "text/html": [
              "<div>\n",
              "<style scoped>\n",
              "    .dataframe tbody tr th:only-of-type {\n",
              "        vertical-align: middle;\n",
              "    }\n",
              "\n",
              "    .dataframe tbody tr th {\n",
              "        vertical-align: top;\n",
              "    }\n",
              "\n",
              "    .dataframe thead th {\n",
              "        text-align: right;\n",
              "    }\n",
              "</style>\n",
              "<table border=\"1\" class=\"dataframe\">\n",
              "  <thead>\n",
              "    <tr style=\"text-align: right;\">\n",
              "      <th></th>\n",
              "      <th>Months</th>\n",
              "      <th>Grocery_sales</th>\n",
              "      <th>Stationary_sales</th>\n",
              "    </tr>\n",
              "  </thead>\n",
              "  <tbody>\n",
              "    <tr>\n",
              "      <th>0</th>\n",
              "      <td>Jan</td>\n",
              "      <td>36</td>\n",
              "      <td>84</td>\n",
              "    </tr>\n",
              "    <tr>\n",
              "      <th>1</th>\n",
              "      <td>Jan</td>\n",
              "      <td>51</td>\n",
              "      <td>63</td>\n",
              "    </tr>\n",
              "    <tr>\n",
              "      <th>2</th>\n",
              "      <td>Jan</td>\n",
              "      <td>17</td>\n",
              "      <td>71</td>\n",
              "    </tr>\n",
              "    <tr>\n",
              "      <th>3</th>\n",
              "      <td>Jan</td>\n",
              "      <td>48</td>\n",
              "      <td>65</td>\n",
              "    </tr>\n",
              "    <tr>\n",
              "      <th>4</th>\n",
              "      <td>Jan</td>\n",
              "      <td>57</td>\n",
              "      <td>66</td>\n",
              "    </tr>\n",
              "  </tbody>\n",
              "</table>\n",
              "</div>"
            ],
            "text/plain": [
              "  Months  Grocery_sales  Stationary_sales\n",
              "0    Jan             36                84\n",
              "1    Jan             51                63\n",
              "2    Jan             17                71\n",
              "3    Jan             48                65\n",
              "4    Jan             57                66"
            ]
          },
          "execution_count": 15,
          "metadata": {},
          "output_type": "execute_result"
        }
      ],
      "source": [
        "#loading store 2\n",
        "Store2 = pd.read_csv('..\\Chapter 1\\Datasets\\Store2.csv')\n",
        "Store2.head()"
      ]
    },
    {
      "cell_type": "markdown",
      "metadata": {
        "id": "MzQcD_tH1r-t"
      },
      "source": [
        "## Which store has greater sales for the quarter?\n",
        "Store 1 at 6082"
      ]
    },
    {
      "cell_type": "code",
      "execution_count": 16,
      "metadata": {
        "colab": {
          "base_uri": "https://localhost:8080/"
        },
        "id": "XswYXzza3Cxf",
        "outputId": "83de21d5-b92b-4468-ca73-96e01bbfe1a7"
      },
      "outputs": [
        {
          "data": {
            "text/plain": [
              "6082"
            ]
          },
          "execution_count": 16,
          "metadata": {},
          "output_type": "execute_result"
        }
      ],
      "source": [
        "Sales_store1 = (Store1[['Grocery_sales','Stationary_sales']].sum(axis=1)).sum()\n",
        "Sales_store1"
      ]
    },
    {
      "cell_type": "code",
      "execution_count": 17,
      "metadata": {
        "colab": {
          "base_uri": "https://localhost:8080/"
        },
        "id": "qn_WTT6a35aV",
        "outputId": "1cbe213f-1d0c-472a-9c79-2a9952d16c1f"
      },
      "outputs": [
        {
          "data": {
            "text/plain": [
              "5847"
            ]
          },
          "execution_count": 17,
          "metadata": {},
          "output_type": "execute_result"
        }
      ],
      "source": [
        "Sales_store2 = (Store2[['Grocery_sales','Stationary_sales']].sum(axis=1)).sum()\n",
        "Sales_store2"
      ]
    },
    {
      "cell_type": "markdown",
      "metadata": {
        "id": "0is_rKRp1tH5"
      },
      "source": [
        "## Which store has the highest sales for grocery products?\n",
        "Store 2 at 2696"
      ]
    },
    {
      "cell_type": "code",
      "execution_count": 18,
      "metadata": {
        "colab": {
          "base_uri": "https://localhost:8080/"
        },
        "id": "bDlrnx0w4Hmw",
        "outputId": "26b20c9c-9d4d-4200-c704-f7e05b06ef03"
      },
      "outputs": [
        {
          "data": {
            "text/plain": [
              "2097"
            ]
          },
          "execution_count": 18,
          "metadata": {},
          "output_type": "execute_result"
        }
      ],
      "source": [
        "#Grocery sales for store 1\n",
        "\n",
        "Sales_store1 = Store1['Grocery_sales'].sum()\n",
        "Sales_store1\n"
      ]
    },
    {
      "cell_type": "code",
      "execution_count": 19,
      "metadata": {
        "colab": {
          "base_uri": "https://localhost:8080/"
        },
        "id": "eYKX9_IU4mG6",
        "outputId": "2a16781a-fc23-4278-fe12-67be8852b758"
      },
      "outputs": [
        {
          "data": {
            "text/plain": [
              "2696"
            ]
          },
          "execution_count": 19,
          "metadata": {},
          "output_type": "execute_result"
        }
      ],
      "source": [
        "#Grocery sales for store 2\n",
        "\n",
        "Sales_store2 = Store2['Grocery_sales'].sum()\n",
        "Sales_store2"
      ]
    },
    {
      "cell_type": "markdown",
      "metadata": {
        "id": "EyI1D0051vzv"
      },
      "source": [
        "## Which store has the highest sales for March?\n",
        "Store 1 with 2871"
      ]
    },
    {
      "cell_type": "code",
      "execution_count": 20,
      "metadata": {
        "colab": {
          "base_uri": "https://localhost:8080/"
        },
        "id": "B6a6O7pw5A1P",
        "outputId": "682145a5-67a7-45ea-862b-e2ac60ab52bf"
      },
      "outputs": [
        {
          "data": {
            "text/plain": [
              "Months\n",
              "Feb    1744\n",
              "Jan    1467\n",
              "Mar    2871\n",
              "dtype: int64"
            ]
          },
          "execution_count": 20,
          "metadata": {},
          "output_type": "execute_result"
        }
      ],
      "source": [
        "Sales_store1 = Store1.groupby(['Months'])[['Grocery_sales','Stationary_sales']].agg('sum').agg('sum',axis =1)\n",
        "Sales_store1"
      ]
    },
    {
      "cell_type": "code",
      "execution_count": 21,
      "metadata": {
        "colab": {
          "base_uri": "https://localhost:8080/"
        },
        "id": "0glKukL-5j3q",
        "outputId": "1227c7de-c82e-472f-9b02-1ee1d3c784f6"
      },
      "outputs": [
        {
          "data": {
            "text/plain": [
              "Months\n",
              "Feb    2050\n",
              "Jan    1419\n",
              "Mar    2378\n",
              "dtype: int64"
            ]
          },
          "execution_count": 21,
          "metadata": {},
          "output_type": "execute_result"
        }
      ],
      "source": [
        "Sales_store2 = Store2.groupby(['Months'])[['Grocery_sales','Stationary_sales']].agg('sum').agg('sum',axis =1)\n",
        "Sales_store2"
      ]
    },
    {
      "cell_type": "markdown",
      "metadata": {
        "id": "LKN1ySsM1zM3"
      },
      "source": [
        "## For how many days were the sales of stationery products greater in store 1 than in store 2?\n",
        "35"
      ]
    },
    {
      "cell_type": "code",
      "execution_count": 22,
      "metadata": {
        "colab": {
          "base_uri": "https://localhost:8080/",
          "height": 1000
        },
        "id": "Fbh3TGOr5yKt",
        "outputId": "fdb18139-b1bd-49be-d221-69f986d89ac3"
      },
      "outputs": [
        {
          "name": "stderr",
          "output_type": "stream",
          "text": [
            "C:\\Users\\BlueBravo\\AppData\\Local\\Temp\\ipykernel_16144\\2202457531.py:1: UserWarning: Boolean Series key will be reindexed to match DataFrame index.\n",
            "  Store1_stationary_greater = Store1[Store1['Stationary_sales'].gt(Store2['Stationary_sales'],axis=0)]\n"
          ]
        },
        {
          "data": {
            "text/html": [
              "<div>\n",
              "<style scoped>\n",
              "    .dataframe tbody tr th:only-of-type {\n",
              "        vertical-align: middle;\n",
              "    }\n",
              "\n",
              "    .dataframe tbody tr th {\n",
              "        vertical-align: top;\n",
              "    }\n",
              "\n",
              "    .dataframe thead th {\n",
              "        text-align: right;\n",
              "    }\n",
              "</style>\n",
              "<table border=\"1\" class=\"dataframe\">\n",
              "  <thead>\n",
              "    <tr style=\"text-align: right;\">\n",
              "      <th></th>\n",
              "      <th>Months</th>\n",
              "      <th>Grocery_sales</th>\n",
              "      <th>Stationary_sales</th>\n",
              "    </tr>\n",
              "  </thead>\n",
              "  <tbody>\n",
              "    <tr>\n",
              "      <th>1</th>\n",
              "      <td>Jan</td>\n",
              "      <td>44</td>\n",
              "      <td>139</td>\n",
              "    </tr>\n",
              "    <tr>\n",
              "      <th>2</th>\n",
              "      <td>Jan</td>\n",
              "      <td>15</td>\n",
              "      <td>85</td>\n",
              "    </tr>\n",
              "    <tr>\n",
              "      <th>4</th>\n",
              "      <td>Jan</td>\n",
              "      <td>36</td>\n",
              "      <td>106</td>\n",
              "    </tr>\n",
              "    <tr>\n",
              "      <th>5</th>\n",
              "      <td>Jan</td>\n",
              "      <td>27</td>\n",
              "      <td>136</td>\n",
              "    </tr>\n",
              "    <tr>\n",
              "      <th>6</th>\n",
              "      <td>Jan</td>\n",
              "      <td>74</td>\n",
              "      <td>116</td>\n",
              "    </tr>\n",
              "    <tr>\n",
              "      <th>7</th>\n",
              "      <td>Jan</td>\n",
              "      <td>63</td>\n",
              "      <td>142</td>\n",
              "    </tr>\n",
              "    <tr>\n",
              "      <th>8</th>\n",
              "      <td>Jan</td>\n",
              "      <td>65</td>\n",
              "      <td>129</td>\n",
              "    </tr>\n",
              "    <tr>\n",
              "      <th>9</th>\n",
              "      <td>Jan</td>\n",
              "      <td>12</td>\n",
              "      <td>138</td>\n",
              "    </tr>\n",
              "    <tr>\n",
              "      <th>10</th>\n",
              "      <td>Feb</td>\n",
              "      <td>34</td>\n",
              "      <td>112</td>\n",
              "    </tr>\n",
              "    <tr>\n",
              "      <th>11</th>\n",
              "      <td>Feb</td>\n",
              "      <td>73</td>\n",
              "      <td>100</td>\n",
              "    </tr>\n",
              "    <tr>\n",
              "      <th>12</th>\n",
              "      <td>Feb</td>\n",
              "      <td>45</td>\n",
              "      <td>135</td>\n",
              "    </tr>\n",
              "    <tr>\n",
              "      <th>13</th>\n",
              "      <td>Feb</td>\n",
              "      <td>31</td>\n",
              "      <td>13</td>\n",
              "    </tr>\n",
              "    <tr>\n",
              "      <th>14</th>\n",
              "      <td>Feb</td>\n",
              "      <td>61</td>\n",
              "      <td>51</td>\n",
              "    </tr>\n",
              "    <tr>\n",
              "      <th>16</th>\n",
              "      <td>Feb</td>\n",
              "      <td>20</td>\n",
              "      <td>141</td>\n",
              "    </tr>\n",
              "    <tr>\n",
              "      <th>17</th>\n",
              "      <td>Feb</td>\n",
              "      <td>18</td>\n",
              "      <td>72</td>\n",
              "    </tr>\n",
              "    <tr>\n",
              "      <th>18</th>\n",
              "      <td>Feb</td>\n",
              "      <td>60</td>\n",
              "      <td>134</td>\n",
              "    </tr>\n",
              "    <tr>\n",
              "      <th>19</th>\n",
              "      <td>Feb</td>\n",
              "      <td>62</td>\n",
              "      <td>47</td>\n",
              "    </tr>\n",
              "    <tr>\n",
              "      <th>21</th>\n",
              "      <td>Feb</td>\n",
              "      <td>25</td>\n",
              "      <td>75</td>\n",
              "    </tr>\n",
              "    <tr>\n",
              "      <th>23</th>\n",
              "      <td>Feb</td>\n",
              "      <td>10</td>\n",
              "      <td>118</td>\n",
              "    </tr>\n",
              "    <tr>\n",
              "      <th>25</th>\n",
              "      <td>Mar</td>\n",
              "      <td>72</td>\n",
              "      <td>97</td>\n",
              "    </tr>\n",
              "    <tr>\n",
              "      <th>26</th>\n",
              "      <td>Mar</td>\n",
              "      <td>48</td>\n",
              "      <td>63</td>\n",
              "    </tr>\n",
              "    <tr>\n",
              "      <th>27</th>\n",
              "      <td>Mar</td>\n",
              "      <td>64</td>\n",
              "      <td>54</td>\n",
              "    </tr>\n",
              "    <tr>\n",
              "      <th>28</th>\n",
              "      <td>Mar</td>\n",
              "      <td>14</td>\n",
              "      <td>78</td>\n",
              "    </tr>\n",
              "    <tr>\n",
              "      <th>29</th>\n",
              "      <td>Mar</td>\n",
              "      <td>51</td>\n",
              "      <td>104</td>\n",
              "    </tr>\n",
              "    <tr>\n",
              "      <th>30</th>\n",
              "      <td>Mar</td>\n",
              "      <td>30</td>\n",
              "      <td>133</td>\n",
              "    </tr>\n",
              "    <tr>\n",
              "      <th>33</th>\n",
              "      <td>Mar</td>\n",
              "      <td>66</td>\n",
              "      <td>80</td>\n",
              "    </tr>\n",
              "    <tr>\n",
              "      <th>35</th>\n",
              "      <td>Mar</td>\n",
              "      <td>54</td>\n",
              "      <td>111</td>\n",
              "    </tr>\n",
              "    <tr>\n",
              "      <th>36</th>\n",
              "      <td>Mar</td>\n",
              "      <td>46</td>\n",
              "      <td>147</td>\n",
              "    </tr>\n",
              "    <tr>\n",
              "      <th>37</th>\n",
              "      <td>Mar</td>\n",
              "      <td>43</td>\n",
              "      <td>137</td>\n",
              "    </tr>\n",
              "    <tr>\n",
              "      <th>39</th>\n",
              "      <td>Mar</td>\n",
              "      <td>55</td>\n",
              "      <td>50</td>\n",
              "    </tr>\n",
              "    <tr>\n",
              "      <th>42</th>\n",
              "      <td>Mar</td>\n",
              "      <td>28</td>\n",
              "      <td>73</td>\n",
              "    </tr>\n",
              "    <tr>\n",
              "      <th>44</th>\n",
              "      <td>Mar</td>\n",
              "      <td>57</td>\n",
              "      <td>124</td>\n",
              "    </tr>\n",
              "    <tr>\n",
              "      <th>46</th>\n",
              "      <td>Mar</td>\n",
              "      <td>11</td>\n",
              "      <td>86</td>\n",
              "    </tr>\n",
              "    <tr>\n",
              "      <th>48</th>\n",
              "      <td>Mar</td>\n",
              "      <td>52</td>\n",
              "      <td>68</td>\n",
              "    </tr>\n",
              "    <tr>\n",
              "      <th>49</th>\n",
              "      <td>Mar</td>\n",
              "      <td>29</td>\n",
              "      <td>113</td>\n",
              "    </tr>\n",
              "  </tbody>\n",
              "</table>\n",
              "</div>"
            ],
            "text/plain": [
              "   Months  Grocery_sales  Stationary_sales\n",
              "1     Jan             44               139\n",
              "2     Jan             15                85\n",
              "4     Jan             36               106\n",
              "5     Jan             27               136\n",
              "6     Jan             74               116\n",
              "7     Jan             63               142\n",
              "8     Jan             65               129\n",
              "9     Jan             12               138\n",
              "10    Feb             34               112\n",
              "11    Feb             73               100\n",
              "12    Feb             45               135\n",
              "13    Feb             31                13\n",
              "14    Feb             61                51\n",
              "16    Feb             20               141\n",
              "17    Feb             18                72\n",
              "18    Feb             60               134\n",
              "19    Feb             62                47\n",
              "21    Feb             25                75\n",
              "23    Feb             10               118\n",
              "25    Mar             72                97\n",
              "26    Mar             48                63\n",
              "27    Mar             64                54\n",
              "28    Mar             14                78\n",
              "29    Mar             51               104\n",
              "30    Mar             30               133\n",
              "33    Mar             66                80\n",
              "35    Mar             54               111\n",
              "36    Mar             46               147\n",
              "37    Mar             43               137\n",
              "39    Mar             55                50\n",
              "42    Mar             28                73\n",
              "44    Mar             57               124\n",
              "46    Mar             11                86\n",
              "48    Mar             52                68\n",
              "49    Mar             29               113"
            ]
          },
          "execution_count": 22,
          "metadata": {},
          "output_type": "execute_result"
        }
      ],
      "source": [
        "Store1_stationary_greater = Store1[Store1['Stationary_sales'].gt(Store2['Stationary_sales'],axis=0)]\n",
        "Store1_stationary_greater"
      ]
    },
    {
      "cell_type": "code",
      "execution_count": 23,
      "metadata": {
        "colab": {
          "base_uri": "https://localhost:8080/"
        },
        "id": "r_mf6HuG6NfK",
        "outputId": "34e6efae-6e09-4dbc-b30a-8654944cc539"
      },
      "outputs": [
        {
          "data": {
            "text/plain": [
              "35"
            ]
          },
          "execution_count": 23,
          "metadata": {},
          "output_type": "execute_result"
        }
      ],
      "source": [
        "len(Store1_stationary_greater)"
      ]
    }
  ],
  "metadata": {
    "colab": {
      "collapsed_sections": [
        "ELuwKsJ16WoF",
        "MzQcD_tH1r-t",
        "0is_rKRp1tH5",
        "EyI1D0051vzv",
        "LKN1ySsM1zM3"
      ],
      "provenance": []
    },
    "kernelspec": {
      "display_name": "Python 3",
      "name": "python3"
    },
    "language_info": {
      "codemirror_mode": {
        "name": "ipython",
        "version": 3
      },
      "file_extension": ".py",
      "mimetype": "text/x-python",
      "name": "python",
      "nbconvert_exporter": "python",
      "pygments_lexer": "ipython3",
      "version": "3.11.3"
    }
  },
  "nbformat": 4,
  "nbformat_minor": 0
}
