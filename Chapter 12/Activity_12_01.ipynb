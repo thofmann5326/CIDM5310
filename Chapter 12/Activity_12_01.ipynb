{
  "cells": [
    {
      "cell_type": "markdown",
      "metadata": {
        "id": "YyLct135187w"
      },
      "source": [
        "# Activity 12.01 – understanding power usage"
      ]
    },
    {
      "cell_type": "markdown",
      "metadata": {
        "id": "1FZUAMgT193X"
      },
      "source": [
        "## For this activity, all you will need is the pandas and numpy libraries. Load them in the first cell of the notebook:"
      ]
    },
    {
      "cell_type": "code",
      "execution_count": 1,
      "metadata": {
        "id": "9KyOw_hh2jq8"
      },
      "outputs": [],
      "source": [
        "import pandas as pd\n",
        "import numpy as np"
      ]
    },
    {
      "cell_type": "markdown",
      "metadata": {
        "id": "ATnh85Hx2JTO"
      },
      "source": [
        "## Read in the household_power_consumption.csv data from the Datasets directory, and list the first few rows"
      ]
    },
    {
      "cell_type": "code",
      "execution_count": 2,
      "metadata": {
        "colab": {
          "base_uri": "https://localhost:8080/",
          "height": 143
        },
        "id": "HHOWK9x42wpC",
        "outputId": "143ed78f-da95-4337-c8be-dc0e193df827"
      },
      "outputs": [
        {
          "data": {
            "text/html": [
              "<div>\n",
              "<style scoped>\n",
              "    .dataframe tbody tr th:only-of-type {\n",
              "        vertical-align: middle;\n",
              "    }\n",
              "\n",
              "    .dataframe tbody tr th {\n",
              "        vertical-align: top;\n",
              "    }\n",
              "\n",
              "    .dataframe thead th {\n",
              "        text-align: right;\n",
              "    }\n",
              "</style>\n",
              "<table border=\"1\" class=\"dataframe\">\n",
              "  <thead>\n",
              "    <tr style=\"text-align: right;\">\n",
              "      <th></th>\n",
              "      <th>Date</th>\n",
              "      <th>Time</th>\n",
              "      <th>Global_active_power</th>\n",
              "      <th>Global_reactive_power</th>\n",
              "      <th>Voltage</th>\n",
              "      <th>Global_intensity</th>\n",
              "      <th>Sub_metering_1</th>\n",
              "      <th>Sub_metering_2</th>\n",
              "      <th>Sub_metering_3</th>\n",
              "    </tr>\n",
              "  </thead>\n",
              "  <tbody>\n",
              "    <tr>\n",
              "      <th>0</th>\n",
              "      <td>1/8/2008</td>\n",
              "      <td>00:00:00</td>\n",
              "      <td>0.500</td>\n",
              "      <td>0.226</td>\n",
              "      <td>239.750</td>\n",
              "      <td>2.400</td>\n",
              "      <td>0.000</td>\n",
              "      <td>0.000</td>\n",
              "      <td>1.0</td>\n",
              "    </tr>\n",
              "    <tr>\n",
              "      <th>1</th>\n",
              "      <td>1/8/2008</td>\n",
              "      <td>00:01:00</td>\n",
              "      <td>0.482</td>\n",
              "      <td>0.224</td>\n",
              "      <td>240.340</td>\n",
              "      <td>2.200</td>\n",
              "      <td>0.000</td>\n",
              "      <td>0.000</td>\n",
              "      <td>1.0</td>\n",
              "    </tr>\n",
              "    <tr>\n",
              "      <th>2</th>\n",
              "      <td>1/8/2008</td>\n",
              "      <td>00:02:00</td>\n",
              "      <td>0.502</td>\n",
              "      <td>0.234</td>\n",
              "      <td>241.680</td>\n",
              "      <td>2.400</td>\n",
              "      <td>0.000</td>\n",
              "      <td>0.000</td>\n",
              "      <td>0.0</td>\n",
              "    </tr>\n",
              "  </tbody>\n",
              "</table>\n",
              "</div>"
            ],
            "text/plain": [
              "       Date      Time Global_active_power Global_reactive_power  Voltage  \\\n",
              "0  1/8/2008  00:00:00               0.500                 0.226  239.750   \n",
              "1  1/8/2008  00:01:00               0.482                 0.224  240.340   \n",
              "2  1/8/2008  00:02:00               0.502                 0.234  241.680   \n",
              "\n",
              "  Global_intensity Sub_metering_1 Sub_metering_2  Sub_metering_3  \n",
              "0            2.400          0.000          0.000             1.0  \n",
              "1            2.200          0.000          0.000             1.0  \n",
              "2            2.400          0.000          0.000             0.0  "
            ]
          },
          "execution_count": 2,
          "metadata": {},
          "output_type": "execute_result"
        }
      ],
      "source": [
        "data_fn = 'https://raw.githubusercontent.com/PacktWorkshops/The-Pandas-Workshop/master/Chapter12/Datasets/household_power_consumption.csv'\n",
        "home_elec = pd.read_csv(data_fn, sep = ';', low_memory = False)\n",
        "home_elec.head(3)"
      ]
    },
    {
      "cell_type": "markdown",
      "metadata": {
        "id": "VylL6Zbv2Lym"
      },
      "source": [
        "## You should inspect the data types of the columns, and further investigate whether there are non-numeric values. If so, correct them by converting to NA values and then filling them by interpolation."
      ]
    },
    {
      "cell_type": "code",
      "execution_count": 3,
      "metadata": {
        "colab": {
          "base_uri": "https://localhost:8080/"
        },
        "id": "AWCh6wf03UNz",
        "outputId": "758c07ee-b414-49ef-e0b2-01f7d7defb8a"
      },
      "outputs": [
        {
          "data": {
            "text/plain": [
              "Date                      object\n",
              "Time                      object\n",
              "Global_active_power       object\n",
              "Global_reactive_power     object\n",
              "Voltage                   object\n",
              "Global_intensity          object\n",
              "Sub_metering_1            object\n",
              "Sub_metering_2            object\n",
              "Sub_metering_3           float64\n",
              "dtype: object"
            ]
          },
          "execution_count": 3,
          "metadata": {},
          "output_type": "execute_result"
        }
      ],
      "source": [
        "home_elec.dtypes"
      ]
    },
    {
      "cell_type": "code",
      "execution_count": 4,
      "metadata": {
        "colab": {
          "base_uri": "https://localhost:8080/"
        },
        "id": "4tMl4oU43kzg",
        "outputId": "4f97db36-2acd-4093-ea90-7926ef6fd69b"
      },
      "outputs": [
        {
          "name": "stdout",
          "output_type": "stream",
          "text": [
            "information for column Date:\n",
            " count      1049760\n",
            "unique         729\n",
            "top       1/8/2008\n",
            "freq          1440\n",
            "Name: Date, dtype: object\n",
            "information for column Time:\n",
            " count      1049760\n",
            "unique        1440\n",
            "top       00:00:00\n",
            "freq           729\n",
            "Name: Time, dtype: object\n",
            "information for column Global_active_power:\n",
            " count     1049760\n",
            "unique       3852\n",
            "top             ?\n",
            "freq         9570\n",
            "Name: Global_active_power, dtype: object\n",
            "information for column Global_reactive_power:\n",
            " count     1049760\n",
            "unique        510\n",
            "top         0.000\n",
            "freq       230359\n",
            "Name: Global_reactive_power, dtype: object\n",
            "information for column Voltage:\n",
            " count     1049760\n",
            "unique       2738\n",
            "top             ?\n",
            "freq         9570\n",
            "Name: Voltage, dtype: object\n",
            "information for column Global_intensity:\n",
            " count     1049760\n",
            "unique        207\n",
            "top         1.400\n",
            "freq        81879\n",
            "Name: Global_intensity, dtype: object\n",
            "information for column Sub_metering_1:\n",
            " count     1049760\n",
            "unique         89\n",
            "top         0.000\n",
            "freq       955562\n",
            "Name: Sub_metering_1, dtype: object\n",
            "information for column Sub_metering_2:\n",
            " count     1049760\n",
            "unique         82\n",
            "top         0.000\n",
            "freq       738513\n",
            "Name: Sub_metering_2, dtype: object\n",
            "information for column Sub_metering_3:\n",
            " count    1.040190e+06\n",
            "mean     6.838058e+00\n",
            "std      8.569015e+00\n",
            "min      0.000000e+00\n",
            "25%      0.000000e+00\n",
            "50%      1.000000e+00\n",
            "75%      1.800000e+01\n",
            "max      3.100000e+01\n",
            "Name: Sub_metering_3, dtype: float64\n"
          ]
        }
      ],
      "source": [
        "for col in home_elec.columns:\n",
        "    print('information for column ' + col + ':\\n', home_elec[col].describe())"
      ]
    },
    {
      "cell_type": "code",
      "execution_count": 5,
      "metadata": {
        "id": "YF6R1T2K3vZz"
      },
      "outputs": [],
      "source": [
        "home_elec.replace('?', np.nan, inplace = True)\n",
        "home_elec.interpolate(inplace = True)\n",
        "\n",
        "for col in home_elec.columns[2:]:\n",
        "    home_elec[col] = home_elec[col].astype(float)"
      ]
    },
    {
      "cell_type": "markdown",
      "metadata": {
        "id": "XZK1n5rX2O1q"
      },
      "source": [
        "## Make a quick visualization to understand the timeframe of the data. Your plan is to identify a year with complete data and focus on that:"
      ]
    },
    {
      "cell_type": "code",
      "execution_count": 6,
      "metadata": {
        "colab": {
          "base_uri": "https://localhost:8080/",
          "height": 467
        },
        "id": "WfGuyUGp4DPN",
        "outputId": "84d7ac72-89fa-4c1d-ecef-9b552b7b4943"
      },
      "outputs": [
        {
          "data": {
            "text/plain": [
              "<Axes: xlabel='Date'>"
            ]
          },
          "execution_count": 6,
          "metadata": {},
          "output_type": "execute_result"
        },
        {
          "data": {
            "image/png": "[encoded data removed]",
            "text/plain": [
              "<Figure size 640x480 with 1 Axes>"
            ]
          },
          "metadata": {},
          "output_type": "display_data"
        }
      ],
      "source": [
        "(home_elec[['Date', 'Sub_metering_1']].plot(x = 'Date', y = 'Sub_metering_1'))"
      ]
    },
    {
      "cell_type": "markdown",
      "metadata": {
        "id": "S_t44Saz2RTQ"
      },
      "source": [
        "## Using the year you identified, create a new DataFrame having Date, Time, and Kitchen_power_use. Note that Sub_metering_1 is the kitchen:"
      ]
    },
    {
      "cell_type": "code",
      "execution_count": 7,
      "metadata": {
        "colab": {
          "base_uri": "https://localhost:8080/",
          "height": 206
        },
        "id": "cFvjecsG4MK_",
        "outputId": "ac944f16-1ae2-4c3f-d6f1-20796acfe294"
      },
      "outputs": [
        {
          "data": {
            "text/html": [
              "<div>\n",
              "<style scoped>\n",
              "    .dataframe tbody tr th:only-of-type {\n",
              "        vertical-align: middle;\n",
              "    }\n",
              "\n",
              "    .dataframe tbody tr th {\n",
              "        vertical-align: top;\n",
              "    }\n",
              "\n",
              "    .dataframe thead th {\n",
              "        text-align: right;\n",
              "    }\n",
              "</style>\n",
              "<table border=\"1\" class=\"dataframe\">\n",
              "  <thead>\n",
              "    <tr style=\"text-align: right;\">\n",
              "      <th></th>\n",
              "      <th>Date</th>\n",
              "      <th>Time</th>\n",
              "      <th>Kitchen_power_use</th>\n",
              "    </tr>\n",
              "  </thead>\n",
              "  <tbody>\n",
              "    <tr>\n",
              "      <th>220320</th>\n",
              "      <td>1/1/2009</td>\n",
              "      <td>00:00:00</td>\n",
              "      <td>0.0</td>\n",
              "    </tr>\n",
              "    <tr>\n",
              "      <th>220321</th>\n",
              "      <td>1/1/2009</td>\n",
              "      <td>00:01:00</td>\n",
              "      <td>0.0</td>\n",
              "    </tr>\n",
              "    <tr>\n",
              "      <th>220322</th>\n",
              "      <td>1/1/2009</td>\n",
              "      <td>00:02:00</td>\n",
              "      <td>0.0</td>\n",
              "    </tr>\n",
              "    <tr>\n",
              "      <th>220323</th>\n",
              "      <td>1/1/2009</td>\n",
              "      <td>00:03:00</td>\n",
              "      <td>0.0</td>\n",
              "    </tr>\n",
              "    <tr>\n",
              "      <th>220324</th>\n",
              "      <td>1/1/2009</td>\n",
              "      <td>00:04:00</td>\n",
              "      <td>0.0</td>\n",
              "    </tr>\n",
              "  </tbody>\n",
              "</table>\n",
              "</div>"
            ],
            "text/plain": [
              "            Date      Time  Kitchen_power_use\n",
              "220320  1/1/2009  00:00:00                0.0\n",
              "220321  1/1/2009  00:01:00                0.0\n",
              "220322  1/1/2009  00:02:00                0.0\n",
              "220323  1/1/2009  00:03:00                0.0\n",
              "220324  1/1/2009  00:04:00                0.0"
            ]
          },
          "execution_count": 7,
          "metadata": {},
          "output_type": "execute_result"
        }
      ],
      "source": [
        "kitchen_elec = home_elec[['Date','Time','Sub_metering_1']]\n",
        "(kitchen_elec := kitchen_elec.loc[kitchen_elec['Date'].str.contains('2009'), :])\n",
        "kitchen_elec.columns = ['Date','Time','Kitchen_power_use']\n",
        "kitchen_elec.head()"
      ]
    },
    {
      "cell_type": "markdown",
      "metadata": {
        "id": "76IAhK2s2UEX"
      },
      "source": [
        "## Date and Time are strings; combine them on each row, then convert the combined string to a datetime, and store that in a new column called timestamp. Keep in mind the European format of the original date strings:"
      ]
    },
    {
      "cell_type": "code",
      "execution_count": 8,
      "metadata": {
        "colab": {
          "base_uri": "https://localhost:8080/",
          "height": 206
        },
        "id": "TEOltVgJ5MoB",
        "outputId": "1339b8ce-3782-4eba-bb50-7019ca4af97e"
      },
      "outputs": [
        {
          "data": {
            "text/html": [
              "<div>\n",
              "<style scoped>\n",
              "    .dataframe tbody tr th:only-of-type {\n",
              "        vertical-align: middle;\n",
              "    }\n",
              "\n",
              "    .dataframe tbody tr th {\n",
              "        vertical-align: top;\n",
              "    }\n",
              "\n",
              "    .dataframe thead th {\n",
              "        text-align: right;\n",
              "    }\n",
              "</style>\n",
              "<table border=\"1\" class=\"dataframe\">\n",
              "  <thead>\n",
              "    <tr style=\"text-align: right;\">\n",
              "      <th></th>\n",
              "      <th>Date</th>\n",
              "      <th>Time</th>\n",
              "      <th>Kitchen_power_use</th>\n",
              "      <th>timestamp</th>\n",
              "    </tr>\n",
              "  </thead>\n",
              "  <tbody>\n",
              "    <tr>\n",
              "      <th>220320</th>\n",
              "      <td>1/1/2009</td>\n",
              "      <td>00:00:00</td>\n",
              "      <td>0.0</td>\n",
              "      <td>2009-01-01 00:00:00</td>\n",
              "    </tr>\n",
              "    <tr>\n",
              "      <th>220321</th>\n",
              "      <td>1/1/2009</td>\n",
              "      <td>00:01:00</td>\n",
              "      <td>0.0</td>\n",
              "      <td>2009-01-01 00:01:00</td>\n",
              "    </tr>\n",
              "    <tr>\n",
              "      <th>220322</th>\n",
              "      <td>1/1/2009</td>\n",
              "      <td>00:02:00</td>\n",
              "      <td>0.0</td>\n",
              "      <td>2009-01-01 00:02:00</td>\n",
              "    </tr>\n",
              "    <tr>\n",
              "      <th>220323</th>\n",
              "      <td>1/1/2009</td>\n",
              "      <td>00:03:00</td>\n",
              "      <td>0.0</td>\n",
              "      <td>2009-01-01 00:03:00</td>\n",
              "    </tr>\n",
              "    <tr>\n",
              "      <th>220324</th>\n",
              "      <td>1/1/2009</td>\n",
              "      <td>00:04:00</td>\n",
              "      <td>0.0</td>\n",
              "      <td>2009-01-01 00:04:00</td>\n",
              "    </tr>\n",
              "  </tbody>\n",
              "</table>\n",
              "</div>"
            ],
            "text/plain": [
              "            Date      Time  Kitchen_power_use           timestamp\n",
              "220320  1/1/2009  00:00:00                0.0 2009-01-01 00:00:00\n",
              "220321  1/1/2009  00:01:00                0.0 2009-01-01 00:01:00\n",
              "220322  1/1/2009  00:02:00                0.0 2009-01-01 00:02:00\n",
              "220323  1/1/2009  00:03:00                0.0 2009-01-01 00:03:00\n",
              "220324  1/1/2009  00:04:00                0.0 2009-01-01 00:04:00"
            ]
          },
          "execution_count": 8,
          "metadata": {},
          "output_type": "execute_result"
        }
      ],
      "source": [
        "kitchen_elec.loc[:, 'timestamp'] = \\\n",
        "    pd.to_datetime(kitchen_elec.loc[:, 'Date'] + ' '\n",
        "                   + kitchen_elec.loc[:, 'Time'],\n",
        "                  dayfirst = True)\n",
        "kitchen_elec.sort_values('timestamp',\n",
        "                         inplace = True)\n",
        "kitchen_elec.head()"
      ]
    },
    {
      "cell_type": "markdown",
      "metadata": {
        "id": "tr0h7PeA2XcJ"
      },
      "source": [
        "## Create an hour and date column using methods on the timestamp column to represent the hour of the day and the date in a standard format"
      ]
    },
    {
      "cell_type": "code",
      "execution_count": 9,
      "metadata": {
        "colab": {
          "base_uri": "https://localhost:8080/",
          "height": 206
        },
        "id": "tL2OquJ85oiW",
        "outputId": "74af19f4-b12f-4e4e-f193-dc6379000b03"
      },
      "outputs": [
        {
          "data": {
            "text/html": [
              "<div>\n",
              "<style scoped>\n",
              "    .dataframe tbody tr th:only-of-type {\n",
              "        vertical-align: middle;\n",
              "    }\n",
              "\n",
              "    .dataframe tbody tr th {\n",
              "        vertical-align: top;\n",
              "    }\n",
              "\n",
              "    .dataframe thead th {\n",
              "        text-align: right;\n",
              "    }\n",
              "</style>\n",
              "<table border=\"1\" class=\"dataframe\">\n",
              "  <thead>\n",
              "    <tr style=\"text-align: right;\">\n",
              "      <th></th>\n",
              "      <th>Date</th>\n",
              "      <th>Time</th>\n",
              "      <th>Kitchen_power_use</th>\n",
              "      <th>timestamp</th>\n",
              "      <th>hour</th>\n",
              "      <th>date</th>\n",
              "    </tr>\n",
              "  </thead>\n",
              "  <tbody>\n",
              "    <tr>\n",
              "      <th>220320</th>\n",
              "      <td>1/1/2009</td>\n",
              "      <td>00:00:00</td>\n",
              "      <td>0.0</td>\n",
              "      <td>2009-01-01 00:00:00</td>\n",
              "      <td>0</td>\n",
              "      <td>2009-01-01</td>\n",
              "    </tr>\n",
              "    <tr>\n",
              "      <th>220321</th>\n",
              "      <td>1/1/2009</td>\n",
              "      <td>00:01:00</td>\n",
              "      <td>0.0</td>\n",
              "      <td>2009-01-01 00:01:00</td>\n",
              "      <td>0</td>\n",
              "      <td>2009-01-01</td>\n",
              "    </tr>\n",
              "    <tr>\n",
              "      <th>220322</th>\n",
              "      <td>1/1/2009</td>\n",
              "      <td>00:02:00</td>\n",
              "      <td>0.0</td>\n",
              "      <td>2009-01-01 00:02:00</td>\n",
              "      <td>0</td>\n",
              "      <td>2009-01-01</td>\n",
              "    </tr>\n",
              "    <tr>\n",
              "      <th>220323</th>\n",
              "      <td>1/1/2009</td>\n",
              "      <td>00:03:00</td>\n",
              "      <td>0.0</td>\n",
              "      <td>2009-01-01 00:03:00</td>\n",
              "      <td>0</td>\n",
              "      <td>2009-01-01</td>\n",
              "    </tr>\n",
              "    <tr>\n",
              "      <th>220324</th>\n",
              "      <td>1/1/2009</td>\n",
              "      <td>00:04:00</td>\n",
              "      <td>0.0</td>\n",
              "      <td>2009-01-01 00:04:00</td>\n",
              "      <td>0</td>\n",
              "      <td>2009-01-01</td>\n",
              "    </tr>\n",
              "  </tbody>\n",
              "</table>\n",
              "</div>"
            ],
            "text/plain": [
              "            Date      Time  Kitchen_power_use           timestamp  hour  \\\n",
              "220320  1/1/2009  00:00:00                0.0 2009-01-01 00:00:00     0   \n",
              "220321  1/1/2009  00:01:00                0.0 2009-01-01 00:01:00     0   \n",
              "220322  1/1/2009  00:02:00                0.0 2009-01-01 00:02:00     0   \n",
              "220323  1/1/2009  00:03:00                0.0 2009-01-01 00:03:00     0   \n",
              "220324  1/1/2009  00:04:00                0.0 2009-01-01 00:04:00     0   \n",
              "\n",
              "              date  \n",
              "220320  2009-01-01  \n",
              "220321  2009-01-01  \n",
              "220322  2009-01-01  \n",
              "220323  2009-01-01  \n",
              "220324  2009-01-01  "
            ]
          },
          "execution_count": 9,
          "metadata": {},
          "output_type": "execute_result"
        }
      ],
      "source": [
        "kitchen_elec['hour'] = \\\n",
        "    kitchen_elec['timestamp'].dt.hour\n",
        "kitchen_elec['date'] = \\\n",
        "    kitchen_elec['timestamp'].dt.date\n",
        "kitchen_elec.head()"
      ]
    },
    {
      "cell_type": "markdown",
      "metadata": {
        "id": "AKlSHJte2aBb"
      },
      "source": [
        "## Group the data by date and hour aggregating Kitchen_power_use:"
      ]
    },
    {
      "cell_type": "code",
      "execution_count": 10,
      "metadata": {
        "colab": {
          "base_uri": "https://localhost:8080/",
          "height": 300
        },
        "id": "a_lHJ5wZ5uNp",
        "outputId": "ee9ede29-396b-4961-e487-e85333c86189"
      },
      "outputs": [
        {
          "data": {
            "text/html": [
              "<div>\n",
              "<style scoped>\n",
              "    .dataframe tbody tr th:only-of-type {\n",
              "        vertical-align: middle;\n",
              "    }\n",
              "\n",
              "    .dataframe tbody tr th {\n",
              "        vertical-align: top;\n",
              "    }\n",
              "\n",
              "    .dataframe thead th {\n",
              "        text-align: right;\n",
              "    }\n",
              "</style>\n",
              "<table border=\"1\" class=\"dataframe\">\n",
              "  <thead>\n",
              "    <tr style=\"text-align: right;\">\n",
              "      <th></th>\n",
              "      <th>date</th>\n",
              "      <th>hour</th>\n",
              "      <th>Kitchen_power_use</th>\n",
              "    </tr>\n",
              "  </thead>\n",
              "  <tbody>\n",
              "    <tr>\n",
              "      <th>20</th>\n",
              "      <td>2009-01-01</td>\n",
              "      <td>20</td>\n",
              "      <td>0.0</td>\n",
              "    </tr>\n",
              "    <tr>\n",
              "      <th>21</th>\n",
              "      <td>2009-01-01</td>\n",
              "      <td>21</td>\n",
              "      <td>0.0</td>\n",
              "    </tr>\n",
              "    <tr>\n",
              "      <th>22</th>\n",
              "      <td>2009-01-01</td>\n",
              "      <td>22</td>\n",
              "      <td>0.0</td>\n",
              "    </tr>\n",
              "    <tr>\n",
              "      <th>23</th>\n",
              "      <td>2009-01-01</td>\n",
              "      <td>23</td>\n",
              "      <td>0.0</td>\n",
              "    </tr>\n",
              "    <tr>\n",
              "      <th>24</th>\n",
              "      <td>2009-01-02</td>\n",
              "      <td>0</td>\n",
              "      <td>0.0</td>\n",
              "    </tr>\n",
              "    <tr>\n",
              "      <th>25</th>\n",
              "      <td>2009-01-02</td>\n",
              "      <td>1</td>\n",
              "      <td>0.0</td>\n",
              "    </tr>\n",
              "    <tr>\n",
              "      <th>26</th>\n",
              "      <td>2009-01-02</td>\n",
              "      <td>2</td>\n",
              "      <td>0.0</td>\n",
              "    </tr>\n",
              "    <tr>\n",
              "      <th>27</th>\n",
              "      <td>2009-01-02</td>\n",
              "      <td>3</td>\n",
              "      <td>0.0</td>\n",
              "    </tr>\n",
              "  </tbody>\n",
              "</table>\n",
              "</div>"
            ],
            "text/plain": [
              "          date  hour  Kitchen_power_use\n",
              "20  2009-01-01    20                0.0\n",
              "21  2009-01-01    21                0.0\n",
              "22  2009-01-01    22                0.0\n",
              "23  2009-01-01    23                0.0\n",
              "24  2009-01-02     0                0.0\n",
              "25  2009-01-02     1                0.0\n",
              "26  2009-01-02     2                0.0\n",
              "27  2009-01-02     3                0.0"
            ]
          },
          "execution_count": 10,
          "metadata": {},
          "output_type": "execute_result"
        }
      ],
      "source": [
        "kitchen_elec = \\\n",
        "    (kitchen_elec[['date',\n",
        "                  'hour',\n",
        "                  'Kitchen_power_use']].\n",
        "                  groupby(['date',\n",
        "                           'hour']).sum())\n",
        "kitchen_elec.reset_index(inplace = True)\n",
        "kitchen_elec.iloc[20:28, :]"
      ]
    },
    {
      "cell_type": "markdown",
      "metadata": {
        "id": "BPU1RynT2cr3"
      },
      "source": [
        "## For January, aggregate the data by hour and make a bar plot by hour of kitchen energy use"
      ]
    },
    {
      "cell_type": "code",
      "execution_count": 11,
      "metadata": {
        "colab": {
          "base_uri": "https://localhost:8080/",
          "height": 562
        },
        "id": "AY0JjNdV5yAQ",
        "outputId": "303fcfe8-dec3-4f25-ca4d-f6ed14359206"
      },
      "outputs": [
        {
          "ename": "TypeError",
          "evalue": "Cannot compare Timestamp with datetime.date. Use ts == pd.Timestamp(date) or ts.date() == date instead.",
          "output_type": "error",
          "traceback": [
            "\u001b[1;31m---------------------------------------------------------------------------\u001b[0m",
            "\u001b[1;31mTypeError\u001b[0m                                 Traceback (most recent call last)",
            "Cell \u001b[1;32mIn[11], line 1\u001b[0m\n\u001b[1;32m----> 1\u001b[0m (kitchen_elec\u001b[39m.\u001b[39mloc[((kitchen_elec[\u001b[39m'\u001b[39;49m\u001b[39mdate\u001b[39;49m\u001b[39m'\u001b[39;49m] \u001b[39m>\u001b[39;49m\u001b[39m=\u001b[39;49m\n\u001b[0;32m      2\u001b[0m                     pd\u001b[39m.\u001b[39;49mto_datetime(\u001b[39m'\u001b[39;49m\u001b[39m2009-01-01\u001b[39;49m\u001b[39m'\u001b[39;49m)) \u001b[39m&\u001b[39m\n\u001b[0;32m      3\u001b[0m                    (kitchen_elec[\u001b[39m'\u001b[39m\u001b[39mdate\u001b[39m\u001b[39m'\u001b[39m] \u001b[39m<\u001b[39m\n\u001b[0;32m      4\u001b[0m                     pd\u001b[39m.\u001b[39mto_datetime(\u001b[39m'\u001b[39m\u001b[39m2009-02-01\u001b[39m\u001b[39m'\u001b[39m))),\n\u001b[0;32m      5\u001b[0m                   [\u001b[39m'\u001b[39m\u001b[39mhour\u001b[39m\u001b[39m'\u001b[39m,\n\u001b[0;32m      6\u001b[0m                    \u001b[39m'\u001b[39m\u001b[39mKitchen_power_use\u001b[39m\u001b[39m'\u001b[39m]]\u001b[39m.\u001b[39m\n\u001b[0;32m      7\u001b[0m                    groupby(\u001b[39m'\u001b[39m\u001b[39mhour\u001b[39m\u001b[39m'\u001b[39m)\u001b[39m.\u001b[39mmean()\u001b[39m.\u001b[39mplot(kind \u001b[39m=\u001b[39m\n\u001b[0;32m      8\u001b[0m                                                \u001b[39m'\u001b[39m\u001b[39mbar\u001b[39m\u001b[39m'\u001b[39m))\n",
            "File \u001b[1;32mc:\\Users\\BlueBravo\\AppData\\Local\\Programs\\Python\\Python311\\Lib\\site-packages\\pandas\\core\\ops\\common.py:81\u001b[0m, in \u001b[0;36m_unpack_zerodim_and_defer.<locals>.new_method\u001b[1;34m(self, other)\u001b[0m\n\u001b[0;32m     77\u001b[0m             \u001b[39mreturn\u001b[39;00m \u001b[39mNotImplemented\u001b[39m\n\u001b[0;32m     79\u001b[0m other \u001b[39m=\u001b[39m item_from_zerodim(other)\n\u001b[1;32m---> 81\u001b[0m \u001b[39mreturn\u001b[39;00m method(\u001b[39mself\u001b[39;49m, other)\n",
            "File \u001b[1;32mc:\\Users\\BlueBravo\\AppData\\Local\\Programs\\Python\\Python311\\Lib\\site-packages\\pandas\\core\\arraylike.py:60\u001b[0m, in \u001b[0;36mOpsMixin.__ge__\u001b[1;34m(self, other)\u001b[0m\n\u001b[0;32m     58\u001b[0m \u001b[39m@unpack_zerodim_and_defer\u001b[39m(\u001b[39m\"\u001b[39m\u001b[39m__ge__\u001b[39m\u001b[39m\"\u001b[39m)\n\u001b[0;32m     59\u001b[0m \u001b[39mdef\u001b[39;00m \u001b[39m__ge__\u001b[39m(\u001b[39mself\u001b[39m, other):\n\u001b[1;32m---> 60\u001b[0m     \u001b[39mreturn\u001b[39;00m \u001b[39mself\u001b[39;49m\u001b[39m.\u001b[39;49m_cmp_method(other, operator\u001b[39m.\u001b[39;49mge)\n",
            "File \u001b[1;32mc:\\Users\\BlueBravo\\AppData\\Local\\Programs\\Python\\Python311\\Lib\\site-packages\\pandas\\core\\series.py:6096\u001b[0m, in \u001b[0;36mSeries._cmp_method\u001b[1;34m(self, other, op)\u001b[0m\n\u001b[0;32m   6093\u001b[0m rvalues \u001b[39m=\u001b[39m extract_array(other, extract_numpy\u001b[39m=\u001b[39m\u001b[39mTrue\u001b[39;00m, extract_range\u001b[39m=\u001b[39m\u001b[39mTrue\u001b[39;00m)\n\u001b[0;32m   6095\u001b[0m \u001b[39mwith\u001b[39;00m np\u001b[39m.\u001b[39merrstate(\u001b[39mall\u001b[39m\u001b[39m=\u001b[39m\u001b[39m\"\u001b[39m\u001b[39mignore\u001b[39m\u001b[39m\"\u001b[39m):\n\u001b[1;32m-> 6096\u001b[0m     res_values \u001b[39m=\u001b[39m ops\u001b[39m.\u001b[39;49mcomparison_op(lvalues, rvalues, op)\n\u001b[0;32m   6098\u001b[0m \u001b[39mreturn\u001b[39;00m \u001b[39mself\u001b[39m\u001b[39m.\u001b[39m_construct_result(res_values, name\u001b[39m=\u001b[39mres_name)\n",
            "File \u001b[1;32mc:\\Users\\BlueBravo\\AppData\\Local\\Programs\\Python\\Python311\\Lib\\site-packages\\pandas\\core\\ops\\array_ops.py:293\u001b[0m, in \u001b[0;36mcomparison_op\u001b[1;34m(left, right, op)\u001b[0m\n\u001b[0;32m    290\u001b[0m     \u001b[39mreturn\u001b[39;00m invalid_comparison(lvalues, rvalues, op)\n\u001b[0;32m    292\u001b[0m \u001b[39melif\u001b[39;00m is_object_dtype(lvalues\u001b[39m.\u001b[39mdtype) \u001b[39mor\u001b[39;00m \u001b[39misinstance\u001b[39m(rvalues, \u001b[39mstr\u001b[39m):\n\u001b[1;32m--> 293\u001b[0m     res_values \u001b[39m=\u001b[39m comp_method_OBJECT_ARRAY(op, lvalues, rvalues)\n\u001b[0;32m    295\u001b[0m \u001b[39melse\u001b[39;00m:\n\u001b[0;32m    296\u001b[0m     res_values \u001b[39m=\u001b[39m _na_arithmetic_op(lvalues, rvalues, op, is_cmp\u001b[39m=\u001b[39m\u001b[39mTrue\u001b[39;00m)\n",
            "File \u001b[1;32mc:\\Users\\BlueBravo\\AppData\\Local\\Programs\\Python\\Python311\\Lib\\site-packages\\pandas\\core\\ops\\array_ops.py:82\u001b[0m, in \u001b[0;36mcomp_method_OBJECT_ARRAY\u001b[1;34m(op, x, y)\u001b[0m\n\u001b[0;32m     80\u001b[0m     result \u001b[39m=\u001b[39m libops\u001b[39m.\u001b[39mvec_compare(x\u001b[39m.\u001b[39mravel(), y\u001b[39m.\u001b[39mravel(), op)\n\u001b[0;32m     81\u001b[0m \u001b[39melse\u001b[39;00m:\n\u001b[1;32m---> 82\u001b[0m     result \u001b[39m=\u001b[39m libops\u001b[39m.\u001b[39;49mscalar_compare(x\u001b[39m.\u001b[39;49mravel(), y, op)\n\u001b[0;32m     83\u001b[0m \u001b[39mreturn\u001b[39;00m result\u001b[39m.\u001b[39mreshape(x\u001b[39m.\u001b[39mshape)\n",
            "File \u001b[1;32mc:\\Users\\BlueBravo\\AppData\\Local\\Programs\\Python\\Python311\\Lib\\site-packages\\pandas\\_libs\\ops.pyx:107\u001b[0m, in \u001b[0;36mpandas._libs.ops.scalar_compare\u001b[1;34m()\u001b[0m\n",
            "File \u001b[1;32mc:\\Users\\BlueBravo\\AppData\\Local\\Programs\\Python\\Python311\\Lib\\site-packages\\pandas\\_libs\\tslibs\\timestamps.pyx:373\u001b[0m, in \u001b[0;36mpandas._libs.tslibs.timestamps._Timestamp.__richcmp__\u001b[1;34m()\u001b[0m\n",
            "\u001b[1;31mTypeError\u001b[0m: Cannot compare Timestamp with datetime.date. Use ts == pd.Timestamp(date) or ts.date() == date instead."
          ]
        }
      ],
      "source": [
        "(kitchen_elec.loc[((kitchen_elec['date'] >=\n",
        "                    pd.to_datetime('2009-01-01')) &\n",
        "                   (kitchen_elec['date'] <\n",
        "                    pd.to_datetime('2009-02-01'))),\n",
        "                  ['hour',\n",
        "                   'Kitchen_power_use']].\n",
        "                   groupby('hour').mean().plot(kind =\n",
        "                                               'bar'))"
      ]
    },
    {
      "cell_type": "markdown",
      "metadata": {
        "id": "vQW0HSku2fMU"
      },
      "source": [
        "## You see that usage seems to begin around breakfast time, continue through the day with a peak at dinner time, then trail off. Make a similar plot for the entire year to compare:"
      ]
    },
    {
      "cell_type": "code",
      "execution_count": null,
      "metadata": {
        "colab": {
          "base_uri": "https://localhost:8080/",
          "height": 471
        },
        "id": "-WPcVn8b50ew",
        "outputId": "7b84c7dc-4e2a-4aec-8a81-352056f8ed7a"
      },
      "outputs": [
        {
          "data": {
            "text/plain": [
              "<Axes: xlabel='hour'>"
            ]
          },
          "execution_count": 22,
          "metadata": {},
          "output_type": "execute_result"
        },
        {
          "data": {
            "image/png": "[encoded data removed]",
            "text/plain": [
              "<Figure size 640x480 with 1 Axes>"
            ]
          },
          "metadata": {},
          "output_type": "display_data"
        }
      ],
      "source": [
        "(kitchen_elec.loc[:,\n",
        "                  ['hour',\n",
        "                   'Kitchen_power_use']].\n",
        "                    groupby('hour').mean().plot(kind =\n",
        "                                                'bar'))"
      ]
    }
  ],
  "metadata": {
    "colab": {
      "provenance": []
    },
    "kernelspec": {
      "display_name": "Python 3",
      "name": "python3"
    },
    "language_info": {
      "codemirror_mode": {
        "name": "ipython",
        "version": 3
      },
      "file_extension": ".py",
      "mimetype": "text/x-python",
      "name": "python",
      "nbconvert_exporter": "python",
      "pygments_lexer": "ipython3",
      "version": "3.11.3"
    }
  },
  "nbformat": 4,
  "nbformat_minor": 0
}
