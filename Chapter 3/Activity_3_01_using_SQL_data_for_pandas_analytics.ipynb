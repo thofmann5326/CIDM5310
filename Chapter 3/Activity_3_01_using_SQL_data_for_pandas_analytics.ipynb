{
  "cells": [
    {
      "attachments": {},
      "cell_type": "markdown",
      "metadata": {
        "id": "In6MhpxMb0n7"
      },
      "source": [
        "# Activity 3.01 – using SQL data for pandas analytics"
      ]
    },
    {
      "attachments": {},
      "cell_type": "markdown",
      "metadata": {
        "id": "WHeMHft2cHUs"
      },
      "source": [
        "## For this activity, you will only need the pandas and sqlite3 libraries. Load them into the first cell of the notebook."
      ]
    },
    {
      "cell_type": "code",
      "execution_count": 3,
      "metadata": {
        "id": "wTfH9_9ic1M4"
      },
      "outputs": [],
      "source": [
        "import pandas as pd\n",
        "import sqlite3\n",
        "SQL_Path = './/datasets/supply_company.db'"
      ]
    },
    {
      "attachments": {},
      "cell_type": "markdown",
      "metadata": {
        "id": "AqJ07YTFcLWf"
      },
      "source": [
        "## Get the list of tables that are contained in the supply_company.db file. The database can be downloaded from https://github.com/PacktWorkshops/The-Pandas-Workshop/blob/master/Chapter03/datasets/supply_company.db."
      ]
    },
    {
      "cell_type": "code",
      "execution_count": 4,
      "metadata": {
        "colab": {
          "base_uri": "https://localhost:8080/",
          "height": 112
        },
        "id": "CTd_NUuWdDTY",
        "outputId": "fae4f03d-01c1-4e58-972f-0dc22b5581af"
      },
      "outputs": [
        {
          "data": {
            "text/html": [
              "<div>\n",
              "<style scoped>\n",
              "    .dataframe tbody tr th:only-of-type {\n",
              "        vertical-align: middle;\n",
              "    }\n",
              "\n",
              "    .dataframe tbody tr th {\n",
              "        vertical-align: top;\n",
              "    }\n",
              "\n",
              "    .dataframe thead th {\n",
              "        text-align: right;\n",
              "    }\n",
              "</style>\n",
              "<table border=\"1\" class=\"dataframe\">\n",
              "  <thead>\n",
              "    <tr style=\"text-align: right;\">\n",
              "      <th></th>\n",
              "      <th>name</th>\n",
              "    </tr>\n",
              "  </thead>\n",
              "  <tbody>\n",
              "    <tr>\n",
              "      <th>0</th>\n",
              "      <td>Customers</td>\n",
              "    </tr>\n",
              "    <tr>\n",
              "      <th>1</th>\n",
              "      <td>Orders</td>\n",
              "    </tr>\n",
              "  </tbody>\n",
              "</table>\n",
              "</div>"
            ],
            "text/plain": [
              "        name\n",
              "0  Customers\n",
              "1     Orders"
            ]
          },
          "execution_count": 4,
          "metadata": {},
          "output_type": "execute_result"
        }
      ],
      "source": [
        "tables = pd.read_sql(\"SELECT name FROM sqlite_master WHERE type = 'table' ORDER BY name ASC\", sqlite3.connect(SQL_Path))\n",
        "tables"
      ]
    },
    {
      "attachments": {},
      "cell_type": "markdown",
      "metadata": {
        "id": "KKBi2CW4cb1M"
      },
      "source": [
        "## Use a pandas SQL method to load the table that contains the orders into a DataFrame"
      ]
    },
    {
      "cell_type": "code",
      "execution_count": 5,
      "metadata": {
        "colab": {
          "base_uri": "https://localhost:8080/",
          "height": 928
        },
        "id": "XtKX2fq2dETG",
        "outputId": "7b913be0-17d9-4130-cfe2-87436f74e611"
      },
      "outputs": [
        {
          "data": {
            "text/html": [
              "<div>\n",
              "<style scoped>\n",
              "    .dataframe tbody tr th:only-of-type {\n",
              "        vertical-align: middle;\n",
              "    }\n",
              "\n",
              "    .dataframe tbody tr th {\n",
              "        vertical-align: top;\n",
              "    }\n",
              "\n",
              "    .dataframe thead th {\n",
              "        text-align: right;\n",
              "    }\n",
              "</style>\n",
              "<table border=\"1\" class=\"dataframe\">\n",
              "  <thead>\n",
              "    <tr style=\"text-align: right;\">\n",
              "      <th></th>\n",
              "      <th>index</th>\n",
              "      <th>Customer_Number</th>\n",
              "      <th>date</th>\n",
              "      <th>item</th>\n",
              "      <th>qty</th>\n",
              "      <th>price</th>\n",
              "      <th>amount</th>\n",
              "    </tr>\n",
              "  </thead>\n",
              "  <tbody>\n",
              "    <tr>\n",
              "      <th>0</th>\n",
              "      <td>0</td>\n",
              "      <td>25058</td>\n",
              "      <td>10/19/2020</td>\n",
              "      <td>354161666</td>\n",
              "      <td>62</td>\n",
              "      <td>91.50</td>\n",
              "      <td>5673.14</td>\n",
              "    </tr>\n",
              "    <tr>\n",
              "      <th>1</th>\n",
              "      <td>1</td>\n",
              "      <td>25058</td>\n",
              "      <td>11/10/2020</td>\n",
              "      <td>1129038342</td>\n",
              "      <td>38</td>\n",
              "      <td>79.79</td>\n",
              "      <td>3032.14</td>\n",
              "    </tr>\n",
              "    <tr>\n",
              "      <th>2</th>\n",
              "      <td>2</td>\n",
              "      <td>26069</td>\n",
              "      <td>11/23/2020</td>\n",
              "      <td>421919566</td>\n",
              "      <td>40</td>\n",
              "      <td>55.67</td>\n",
              "      <td>2226.76</td>\n",
              "    </tr>\n",
              "    <tr>\n",
              "      <th>3</th>\n",
              "      <td>3</td>\n",
              "      <td>26069</td>\n",
              "      <td>12/22/2020</td>\n",
              "      <td>1156861472</td>\n",
              "      <td>54</td>\n",
              "      <td>80.30</td>\n",
              "      <td>4336.03</td>\n",
              "    </tr>\n",
              "    <tr>\n",
              "      <th>4</th>\n",
              "      <td>4</td>\n",
              "      <td>26858</td>\n",
              "      <td>11/30/2020</td>\n",
              "      <td>936049686</td>\n",
              "      <td>64</td>\n",
              "      <td>45.37</td>\n",
              "      <td>2903.99</td>\n",
              "    </tr>\n",
              "    <tr>\n",
              "      <th>5</th>\n",
              "      <td>5</td>\n",
              "      <td>26858</td>\n",
              "      <td>12/9/2020</td>\n",
              "      <td>458515506</td>\n",
              "      <td>54</td>\n",
              "      <td>15.55</td>\n",
              "      <td>839.51</td>\n",
              "    </tr>\n",
              "    <tr>\n",
              "      <th>6</th>\n",
              "      <td>6</td>\n",
              "      <td>26858</td>\n",
              "      <td>11/6/2020</td>\n",
              "      <td>937462037</td>\n",
              "      <td>83</td>\n",
              "      <td>44.92</td>\n",
              "      <td>3728.20</td>\n",
              "    </tr>\n",
              "    <tr>\n",
              "      <th>7</th>\n",
              "      <td>7</td>\n",
              "      <td>31782</td>\n",
              "      <td>10/21/2020</td>\n",
              "      <td>1056009661</td>\n",
              "      <td>17</td>\n",
              "      <td>38.95</td>\n",
              "      <td>662.14</td>\n",
              "    </tr>\n",
              "    <tr>\n",
              "      <th>8</th>\n",
              "      <td>8</td>\n",
              "      <td>31782</td>\n",
              "      <td>12/23/2020</td>\n",
              "      <td>1345493738</td>\n",
              "      <td>61</td>\n",
              "      <td>46.32</td>\n",
              "      <td>2825.78</td>\n",
              "    </tr>\n",
              "    <tr>\n",
              "      <th>9</th>\n",
              "      <td>9</td>\n",
              "      <td>31782</td>\n",
              "      <td>10/6/2020</td>\n",
              "      <td>959143459</td>\n",
              "      <td>73</td>\n",
              "      <td>57.57</td>\n",
              "      <td>4202.92</td>\n",
              "    </tr>\n",
              "    <tr>\n",
              "      <th>10</th>\n",
              "      <td>10</td>\n",
              "      <td>32791</td>\n",
              "      <td>10/12/2020</td>\n",
              "      <td>742707719</td>\n",
              "      <td>93</td>\n",
              "      <td>34.95</td>\n",
              "      <td>3250.43</td>\n",
              "    </tr>\n",
              "    <tr>\n",
              "      <th>11</th>\n",
              "      <td>11</td>\n",
              "      <td>32791</td>\n",
              "      <td>11/24/2020</td>\n",
              "      <td>1198322845</td>\n",
              "      <td>84</td>\n",
              "      <td>87.45</td>\n",
              "      <td>7346.21</td>\n",
              "    </tr>\n",
              "    <tr>\n",
              "      <th>12</th>\n",
              "      <td>12</td>\n",
              "      <td>35549</td>\n",
              "      <td>12/8/2020</td>\n",
              "      <td>1299432702</td>\n",
              "      <td>100</td>\n",
              "      <td>57.97</td>\n",
              "      <td>5797.46</td>\n",
              "    </tr>\n",
              "    <tr>\n",
              "      <th>13</th>\n",
              "      <td>13</td>\n",
              "      <td>35549</td>\n",
              "      <td>11/26/2020</td>\n",
              "      <td>785229000</td>\n",
              "      <td>91</td>\n",
              "      <td>73.25</td>\n",
              "      <td>6665.33</td>\n",
              "    </tr>\n",
              "    <tr>\n",
              "      <th>14</th>\n",
              "      <td>14</td>\n",
              "      <td>37139</td>\n",
              "      <td>10/26/2020</td>\n",
              "      <td>1038612430</td>\n",
              "      <td>82</td>\n",
              "      <td>35.89</td>\n",
              "      <td>2942.60</td>\n",
              "    </tr>\n",
              "    <tr>\n",
              "      <th>15</th>\n",
              "      <td>15</td>\n",
              "      <td>37139</td>\n",
              "      <td>11/25/2020</td>\n",
              "      <td>660217018</td>\n",
              "      <td>95</td>\n",
              "      <td>64.51</td>\n",
              "      <td>6128.31</td>\n",
              "    </tr>\n",
              "    <tr>\n",
              "      <th>16</th>\n",
              "      <td>16</td>\n",
              "      <td>37179</td>\n",
              "      <td>12/8/2020</td>\n",
              "      <td>563422665</td>\n",
              "      <td>59</td>\n",
              "      <td>74.42</td>\n",
              "      <td>4391.03</td>\n",
              "    </tr>\n",
              "    <tr>\n",
              "      <th>17</th>\n",
              "      <td>17</td>\n",
              "      <td>37179</td>\n",
              "      <td>10/3/2020</td>\n",
              "      <td>477947760</td>\n",
              "      <td>54</td>\n",
              "      <td>98.09</td>\n",
              "      <td>5297.08</td>\n",
              "    </tr>\n",
              "    <tr>\n",
              "      <th>18</th>\n",
              "      <td>18</td>\n",
              "      <td>39513</td>\n",
              "      <td>10/14/2020</td>\n",
              "      <td>873498463</td>\n",
              "      <td>70</td>\n",
              "      <td>80.50</td>\n",
              "      <td>5634.85</td>\n",
              "    </tr>\n",
              "    <tr>\n",
              "      <th>19</th>\n",
              "      <td>19</td>\n",
              "      <td>39513</td>\n",
              "      <td>11/10/2020</td>\n",
              "      <td>774435668</td>\n",
              "      <td>84</td>\n",
              "      <td>63.52</td>\n",
              "      <td>5336.03</td>\n",
              "    </tr>\n",
              "    <tr>\n",
              "      <th>20</th>\n",
              "      <td>20</td>\n",
              "      <td>41085</td>\n",
              "      <td>10/3/2020</td>\n",
              "      <td>681721700</td>\n",
              "      <td>36</td>\n",
              "      <td>30.57</td>\n",
              "      <td>1100.62</td>\n",
              "    </tr>\n",
              "    <tr>\n",
              "      <th>21</th>\n",
              "      <td>21</td>\n",
              "      <td>41085</td>\n",
              "      <td>10/21/2020</td>\n",
              "      <td>1332372042</td>\n",
              "      <td>46</td>\n",
              "      <td>53.49</td>\n",
              "      <td>2460.41</td>\n",
              "    </tr>\n",
              "    <tr>\n",
              "      <th>22</th>\n",
              "      <td>22</td>\n",
              "      <td>43711</td>\n",
              "      <td>11/9/2020</td>\n",
              "      <td>1132414202</td>\n",
              "      <td>17</td>\n",
              "      <td>14.24</td>\n",
              "      <td>242.00</td>\n",
              "    </tr>\n",
              "    <tr>\n",
              "      <th>23</th>\n",
              "      <td>23</td>\n",
              "      <td>43711</td>\n",
              "      <td>10/20/2020</td>\n",
              "      <td>1075104802</td>\n",
              "      <td>92</td>\n",
              "      <td>84.95</td>\n",
              "      <td>7815.30</td>\n",
              "    </tr>\n",
              "    <tr>\n",
              "      <th>24</th>\n",
              "      <td>24</td>\n",
              "      <td>45548</td>\n",
              "      <td>11/18/2020</td>\n",
              "      <td>1381896523</td>\n",
              "      <td>53</td>\n",
              "      <td>67.67</td>\n",
              "      <td>3586.29</td>\n",
              "    </tr>\n",
              "    <tr>\n",
              "      <th>25</th>\n",
              "      <td>25</td>\n",
              "      <td>45548</td>\n",
              "      <td>10/4/2020</td>\n",
              "      <td>443604022</td>\n",
              "      <td>51</td>\n",
              "      <td>30.33</td>\n",
              "      <td>1546.82</td>\n",
              "    </tr>\n",
              "    <tr>\n",
              "      <th>26</th>\n",
              "      <td>26</td>\n",
              "      <td>48565</td>\n",
              "      <td>12/12/2020</td>\n",
              "      <td>258242371</td>\n",
              "      <td>17</td>\n",
              "      <td>40.16</td>\n",
              "      <td>682.71</td>\n",
              "    </tr>\n",
              "    <tr>\n",
              "      <th>27</th>\n",
              "      <td>27</td>\n",
              "      <td>48565</td>\n",
              "      <td>12/15/2020</td>\n",
              "      <td>518350297</td>\n",
              "      <td>27</td>\n",
              "      <td>60.84</td>\n",
              "      <td>1642.64</td>\n",
              "    </tr>\n",
              "  </tbody>\n",
              "</table>\n",
              "</div>"
            ],
            "text/plain": [
              "    index  Customer_Number        date        item  qty  price   amount\n",
              "0       0            25058  10/19/2020   354161666   62  91.50  5673.14\n",
              "1       1            25058  11/10/2020  1129038342   38  79.79  3032.14\n",
              "2       2            26069  11/23/2020   421919566   40  55.67  2226.76\n",
              "3       3            26069  12/22/2020  1156861472   54  80.30  4336.03\n",
              "4       4            26858  11/30/2020   936049686   64  45.37  2903.99\n",
              "5       5            26858   12/9/2020   458515506   54  15.55   839.51\n",
              "6       6            26858   11/6/2020   937462037   83  44.92  3728.20\n",
              "7       7            31782  10/21/2020  1056009661   17  38.95   662.14\n",
              "8       8            31782  12/23/2020  1345493738   61  46.32  2825.78\n",
              "9       9            31782   10/6/2020   959143459   73  57.57  4202.92\n",
              "10     10            32791  10/12/2020   742707719   93  34.95  3250.43\n",
              "11     11            32791  11/24/2020  1198322845   84  87.45  7346.21\n",
              "12     12            35549   12/8/2020  1299432702  100  57.97  5797.46\n",
              "13     13            35549  11/26/2020   785229000   91  73.25  6665.33\n",
              "14     14            37139  10/26/2020  1038612430   82  35.89  2942.60\n",
              "15     15            37139  11/25/2020   660217018   95  64.51  6128.31\n",
              "16     16            37179   12/8/2020   563422665   59  74.42  4391.03\n",
              "17     17            37179   10/3/2020   477947760   54  98.09  5297.08\n",
              "18     18            39513  10/14/2020   873498463   70  80.50  5634.85\n",
              "19     19            39513  11/10/2020   774435668   84  63.52  5336.03\n",
              "20     20            41085   10/3/2020   681721700   36  30.57  1100.62\n",
              "21     21            41085  10/21/2020  1332372042   46  53.49  2460.41\n",
              "22     22            43711   11/9/2020  1132414202   17  14.24   242.00\n",
              "23     23            43711  10/20/2020  1075104802   92  84.95  7815.30\n",
              "24     24            45548  11/18/2020  1381896523   53  67.67  3586.29\n",
              "25     25            45548   10/4/2020   443604022   51  30.33  1546.82\n",
              "26     26            48565  12/12/2020   258242371   17  40.16   682.71\n",
              "27     27            48565  12/15/2020   518350297   27  60.84  1642.64"
            ]
          },
          "execution_count": 5,
          "metadata": {},
          "output_type": "execute_result"
        }
      ],
      "source": [
        "orders = pd.read_sql(\"select * from Orders\", sqlite3.connect(SQL_Path))\n",
        "orders"
      ]
    },
    {
      "attachments": {},
      "cell_type": "markdown",
      "metadata": {
        "id": "2FicJggFcgLW"
      },
      "source": [
        "## Determine the number of customers with the largest sales in the data you have been given."
      ]
    },
    {
      "cell_type": "code",
      "execution_count": 6,
      "metadata": {
        "colab": {
          "base_uri": "https://localhost:8080/"
        },
        "id": "HsDQOZD8dExZ",
        "outputId": "27a15be9-1731-4804-f02f-468e0f5276b9"
      },
      "outputs": [
        {
          "data": {
            "text/plain": [
              "35549"
            ]
          },
          "execution_count": 6,
          "metadata": {},
          "output_type": "execute_result"
        }
      ],
      "source": [
        "largest_customer = orders.groupby('Customer_Number').sum()['amount'].sort_values(ascending = False).index[0]\n",
        "largest_customer"
      ]
    },
    {
      "attachments": {},
      "cell_type": "markdown",
      "metadata": {
        "id": "529ehiU5clIG"
      },
      "source": [
        "## Find and list the row for this customer in the table containing the list of customers."
      ]
    },
    {
      "cell_type": "code",
      "execution_count": 7,
      "metadata": {
        "colab": {
          "base_uri": "https://localhost:8080/",
          "height": 81
        },
        "id": "69I_4R4GdFi5",
        "outputId": "14cd7fc2-396c-4d5b-8a96-ed3c1738370c"
      },
      "outputs": [
        {
          "data": {
            "text/html": [
              "<div>\n",
              "<style scoped>\n",
              "    .dataframe tbody tr th:only-of-type {\n",
              "        vertical-align: middle;\n",
              "    }\n",
              "\n",
              "    .dataframe tbody tr th {\n",
              "        vertical-align: top;\n",
              "    }\n",
              "\n",
              "    .dataframe thead th {\n",
              "        text-align: right;\n",
              "    }\n",
              "</style>\n",
              "<table border=\"1\" class=\"dataframe\">\n",
              "  <thead>\n",
              "    <tr style=\"text-align: right;\">\n",
              "      <th></th>\n",
              "      <th>index</th>\n",
              "      <th>Customer_Number</th>\n",
              "      <th>Company</th>\n",
              "      <th>City</th>\n",
              "      <th>State</th>\n",
              "    </tr>\n",
              "  </thead>\n",
              "  <tbody>\n",
              "    <tr>\n",
              "      <th>0</th>\n",
              "      <td>5</td>\n",
              "      <td>35549</td>\n",
              "      <td>Certain Construction</td>\n",
              "      <td>Honolulu</td>\n",
              "      <td>HI</td>\n",
              "    </tr>\n",
              "  </tbody>\n",
              "</table>\n",
              "</div>"
            ],
            "text/plain": [
              "   index  Customer_Number               Company      City State\n",
              "0      5            35549  Certain Construction  Honolulu    HI"
            ]
          },
          "execution_count": 7,
          "metadata": {},
          "output_type": "execute_result"
        }
      ],
      "source": [
        "largest_cust_info = pd.read_sql(\"SELECT * FROM Customers WHERE Customer_Number = \" + str(largest_customer), sqlite3.connect(SQL_Path))\n",
        "largest_cust_info"
      ]
    }
  ],
  "metadata": {
    "colab": {
      "provenance": []
    },
    "kernelspec": {
      "display_name": "Python 3",
      "name": "python3"
    },
    "language_info": {
      "codemirror_mode": {
        "name": "ipython",
        "version": 3
      },
      "file_extension": ".py",
      "mimetype": "text/x-python",
      "name": "python",
      "nbconvert_exporter": "python",
      "pygments_lexer": "ipython3",
      "version": "3.11.3"
    }
  },
  "nbformat": 4,
  "nbformat_minor": 0
}
