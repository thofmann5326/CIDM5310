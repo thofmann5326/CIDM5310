{
  "cells": [
    {
      "cell_type": "markdown",
      "metadata": {
        "id": "Niw9xn0Fp8wY"
      },
      "source": [
        "# Activity 4.01 – optimizing memory usage by converting into the appropriate dtypes"
      ]
    },
    {
      "cell_type": "markdown",
      "metadata": {
        "id": "lRBJkBYzqRzC"
      },
      "source": [
        "## Import the pandas package."
      ]
    },
    {
      "cell_type": "code",
      "execution_count": 1,
      "metadata": {
        "id": "CDfe2jySq628"
      },
      "outputs": [],
      "source": [
        "import pandas as pd"
      ]
    },
    {
      "cell_type": "markdown",
      "metadata": {
        "id": "fhpkaq-IqUn1"
      },
      "source": [
        "## Load the CSV file as a DataFrame."
      ]
    },
    {
      "cell_type": "code",
      "execution_count": 2,
      "metadata": {
        "id": "_OhVnl4vq-Gc"
      },
      "outputs": [],
      "source": [
        "file_url = 'https://raw.githubusercontent.com/PacktWorkshops/The-Pandas-Workshop/master/Chapter04/Data/car.csv'\n",
        "\n",
        "data_frame = pd.read_csv(file_url)"
      ]
    },
    {
      "cell_type": "markdown",
      "metadata": {
        "id": "OTa5FQd9qWqy"
      },
      "source": [
        "## Display the first 10 rows of the DataFrame."
      ]
    },
    {
      "cell_type": "code",
      "execution_count": 3,
      "metadata": {
        "colab": {
          "base_uri": "https://localhost:8080/",
          "height": 363
        },
        "id": "Gl0aVEOnrNz0",
        "outputId": "47cbcc34-a775-4511-d236-236d6825cc8f"
      },
      "outputs": [
        {
          "data": {
            "text/html": [
              "<div>\n",
              "<style scoped>\n",
              "    .dataframe tbody tr th:only-of-type {\n",
              "        vertical-align: middle;\n",
              "    }\n",
              "\n",
              "    .dataframe tbody tr th {\n",
              "        vertical-align: top;\n",
              "    }\n",
              "\n",
              "    .dataframe thead th {\n",
              "        text-align: right;\n",
              "    }\n",
              "</style>\n",
              "<table border=\"1\" class=\"dataframe\">\n",
              "  <thead>\n",
              "    <tr style=\"text-align: right;\">\n",
              "      <th></th>\n",
              "      <th>buying</th>\n",
              "      <th>maint</th>\n",
              "      <th>doors</th>\n",
              "      <th>persons</th>\n",
              "      <th>lug_boot</th>\n",
              "      <th>safety</th>\n",
              "      <th>class</th>\n",
              "    </tr>\n",
              "  </thead>\n",
              "  <tbody>\n",
              "    <tr>\n",
              "      <th>0</th>\n",
              "      <td>vhigh</td>\n",
              "      <td>vhigh</td>\n",
              "      <td>2</td>\n",
              "      <td>2.0</td>\n",
              "      <td>small</td>\n",
              "      <td>low</td>\n",
              "      <td>unacc</td>\n",
              "    </tr>\n",
              "    <tr>\n",
              "      <th>1</th>\n",
              "      <td>vhigh</td>\n",
              "      <td>vhigh</td>\n",
              "      <td>2</td>\n",
              "      <td>2.0</td>\n",
              "      <td>small</td>\n",
              "      <td>med</td>\n",
              "      <td>unacc</td>\n",
              "    </tr>\n",
              "    <tr>\n",
              "      <th>2</th>\n",
              "      <td>vhigh</td>\n",
              "      <td>vhigh</td>\n",
              "      <td>2</td>\n",
              "      <td>NaN</td>\n",
              "      <td>small</td>\n",
              "      <td>high</td>\n",
              "      <td>unacc</td>\n",
              "    </tr>\n",
              "    <tr>\n",
              "      <th>3</th>\n",
              "      <td>vhigh</td>\n",
              "      <td>vhigh</td>\n",
              "      <td>2</td>\n",
              "      <td>2.0</td>\n",
              "      <td>med</td>\n",
              "      <td>low</td>\n",
              "      <td>unacc</td>\n",
              "    </tr>\n",
              "    <tr>\n",
              "      <th>4</th>\n",
              "      <td>vhigh</td>\n",
              "      <td>vhigh</td>\n",
              "      <td>2</td>\n",
              "      <td>2.0</td>\n",
              "      <td>med</td>\n",
              "      <td>med</td>\n",
              "      <td>unacc</td>\n",
              "    </tr>\n",
              "    <tr>\n",
              "      <th>5</th>\n",
              "      <td>NaN</td>\n",
              "      <td>vhigh</td>\n",
              "      <td>2</td>\n",
              "      <td>2.0</td>\n",
              "      <td>med</td>\n",
              "      <td>high</td>\n",
              "      <td>NaN</td>\n",
              "    </tr>\n",
              "    <tr>\n",
              "      <th>6</th>\n",
              "      <td>vhigh</td>\n",
              "      <td>vhigh</td>\n",
              "      <td>2</td>\n",
              "      <td>2.0</td>\n",
              "      <td>big</td>\n",
              "      <td>low</td>\n",
              "      <td>unacc</td>\n",
              "    </tr>\n",
              "    <tr>\n",
              "      <th>7</th>\n",
              "      <td>vhigh</td>\n",
              "      <td>vhigh</td>\n",
              "      <td>2</td>\n",
              "      <td>2.0</td>\n",
              "      <td>big</td>\n",
              "      <td>NaN</td>\n",
              "      <td>unacc</td>\n",
              "    </tr>\n",
              "    <tr>\n",
              "      <th>8</th>\n",
              "      <td>vhigh</td>\n",
              "      <td>vhigh</td>\n",
              "      <td>2</td>\n",
              "      <td>2.0</td>\n",
              "      <td>big</td>\n",
              "      <td>high</td>\n",
              "      <td>unacc</td>\n",
              "    </tr>\n",
              "    <tr>\n",
              "      <th>9</th>\n",
              "      <td>vhigh</td>\n",
              "      <td>NaN</td>\n",
              "      <td>2</td>\n",
              "      <td>4.0</td>\n",
              "      <td>small</td>\n",
              "      <td>low</td>\n",
              "      <td>unacc</td>\n",
              "    </tr>\n",
              "  </tbody>\n",
              "</table>\n",
              "</div>"
            ],
            "text/plain": [
              "  buying  maint  doors  persons lug_boot safety  class\n",
              "0  vhigh  vhigh      2      2.0    small    low  unacc\n",
              "1  vhigh  vhigh      2      2.0    small    med  unacc\n",
              "2  vhigh  vhigh      2      NaN    small   high  unacc\n",
              "3  vhigh  vhigh      2      2.0      med    low  unacc\n",
              "4  vhigh  vhigh      2      2.0      med    med  unacc\n",
              "5    NaN  vhigh      2      2.0      med   high    NaN\n",
              "6  vhigh  vhigh      2      2.0      big    low  unacc\n",
              "7  vhigh  vhigh      2      2.0      big    NaN  unacc\n",
              "8  vhigh  vhigh      2      2.0      big   high  unacc\n",
              "9  vhigh    NaN      2      4.0    small    low  unacc"
            ]
          },
          "execution_count": 3,
          "metadata": {},
          "output_type": "execute_result"
        }
      ],
      "source": [
        "data_frame.head(10)"
      ]
    },
    {
      "cell_type": "markdown",
      "metadata": {
        "id": "NTKZWnz0qXcm"
      },
      "source": [
        "## Display the data types of each column in the DataFrame using the info() method."
      ]
    },
    {
      "cell_type": "code",
      "execution_count": 4,
      "metadata": {
        "colab": {
          "base_uri": "https://localhost:8080/"
        },
        "id": "m6QYNCqVrThE",
        "outputId": "eee40a11-d961-4692-ee8f-a42b1e4bf35d"
      },
      "outputs": [
        {
          "name": "stdout",
          "output_type": "stream",
          "text": [
            "<class 'pandas.core.frame.DataFrame'>\n",
            "RangeIndex: 1728 entries, 0 to 1727\n",
            "Data columns (total 7 columns):\n",
            " #   Column    Non-Null Count  Dtype  \n",
            "---  ------    --------------  -----  \n",
            " 0   buying    1727 non-null   object \n",
            " 1   maint     1727 non-null   object \n",
            " 2   doors     1728 non-null   int64  \n",
            " 3   persons   1151 non-null   float64\n",
            " 4   lug_boot  1728 non-null   object \n",
            " 5   safety    1727 non-null   object \n",
            " 6   class     1727 non-null   object \n",
            "dtypes: float64(1), int64(1), object(5)\n",
            "memory usage: 94.6+ KB\n"
          ]
        }
      ],
      "source": [
        "data_frame.info()"
      ]
    },
    {
      "cell_type": "markdown",
      "metadata": {
        "id": "eejL_DIKqZ-c"
      },
      "source": [
        "## Replace the missing values appropriately."
      ]
    },
    {
      "cell_type": "code",
      "execution_count": 5,
      "metadata": {
        "colab": {
          "base_uri": "https://localhost:8080/",
          "height": 363
        },
        "id": "uXS6pnNpriGR",
        "outputId": "9181fba7-b69e-4a00-db5c-c54562fab75f"
      },
      "outputs": [
        {
          "data": {
            "text/html": [
              "<div>\n",
              "<style scoped>\n",
              "    .dataframe tbody tr th:only-of-type {\n",
              "        vertical-align: middle;\n",
              "    }\n",
              "\n",
              "    .dataframe tbody tr th {\n",
              "        vertical-align: top;\n",
              "    }\n",
              "\n",
              "    .dataframe thead th {\n",
              "        text-align: right;\n",
              "    }\n",
              "</style>\n",
              "<table border=\"1\" class=\"dataframe\">\n",
              "  <thead>\n",
              "    <tr style=\"text-align: right;\">\n",
              "      <th></th>\n",
              "      <th>buying</th>\n",
              "      <th>maint</th>\n",
              "      <th>doors</th>\n",
              "      <th>persons</th>\n",
              "      <th>lug_boot</th>\n",
              "      <th>safety</th>\n",
              "      <th>class</th>\n",
              "    </tr>\n",
              "  </thead>\n",
              "  <tbody>\n",
              "    <tr>\n",
              "      <th>0</th>\n",
              "      <td>vhigh</td>\n",
              "      <td>vhigh</td>\n",
              "      <td>2</td>\n",
              "      <td>2.0</td>\n",
              "      <td>small</td>\n",
              "      <td>low</td>\n",
              "      <td>unacc</td>\n",
              "    </tr>\n",
              "    <tr>\n",
              "      <th>1</th>\n",
              "      <td>vhigh</td>\n",
              "      <td>vhigh</td>\n",
              "      <td>2</td>\n",
              "      <td>2.0</td>\n",
              "      <td>small</td>\n",
              "      <td>med</td>\n",
              "      <td>unacc</td>\n",
              "    </tr>\n",
              "    <tr>\n",
              "      <th>2</th>\n",
              "      <td>vhigh</td>\n",
              "      <td>vhigh</td>\n",
              "      <td>2</td>\n",
              "      <td>3.0</td>\n",
              "      <td>small</td>\n",
              "      <td>high</td>\n",
              "      <td>unacc</td>\n",
              "    </tr>\n",
              "    <tr>\n",
              "      <th>3</th>\n",
              "      <td>vhigh</td>\n",
              "      <td>vhigh</td>\n",
              "      <td>2</td>\n",
              "      <td>2.0</td>\n",
              "      <td>med</td>\n",
              "      <td>low</td>\n",
              "      <td>unacc</td>\n",
              "    </tr>\n",
              "    <tr>\n",
              "      <th>4</th>\n",
              "      <td>vhigh</td>\n",
              "      <td>vhigh</td>\n",
              "      <td>2</td>\n",
              "      <td>2.0</td>\n",
              "      <td>med</td>\n",
              "      <td>med</td>\n",
              "      <td>unacc</td>\n",
              "    </tr>\n",
              "    <tr>\n",
              "      <th>5</th>\n",
              "      <td>Unknown</td>\n",
              "      <td>vhigh</td>\n",
              "      <td>2</td>\n",
              "      <td>2.0</td>\n",
              "      <td>med</td>\n",
              "      <td>high</td>\n",
              "      <td>Unknown</td>\n",
              "    </tr>\n",
              "    <tr>\n",
              "      <th>6</th>\n",
              "      <td>vhigh</td>\n",
              "      <td>vhigh</td>\n",
              "      <td>2</td>\n",
              "      <td>2.0</td>\n",
              "      <td>big</td>\n",
              "      <td>low</td>\n",
              "      <td>unacc</td>\n",
              "    </tr>\n",
              "    <tr>\n",
              "      <th>7</th>\n",
              "      <td>vhigh</td>\n",
              "      <td>vhigh</td>\n",
              "      <td>2</td>\n",
              "      <td>2.0</td>\n",
              "      <td>big</td>\n",
              "      <td>Unknown</td>\n",
              "      <td>unacc</td>\n",
              "    </tr>\n",
              "    <tr>\n",
              "      <th>8</th>\n",
              "      <td>vhigh</td>\n",
              "      <td>vhigh</td>\n",
              "      <td>2</td>\n",
              "      <td>2.0</td>\n",
              "      <td>big</td>\n",
              "      <td>high</td>\n",
              "      <td>unacc</td>\n",
              "    </tr>\n",
              "    <tr>\n",
              "      <th>9</th>\n",
              "      <td>vhigh</td>\n",
              "      <td>Unknown</td>\n",
              "      <td>2</td>\n",
              "      <td>4.0</td>\n",
              "      <td>small</td>\n",
              "      <td>low</td>\n",
              "      <td>unacc</td>\n",
              "    </tr>\n",
              "  </tbody>\n",
              "</table>\n",
              "</div>"
            ],
            "text/plain": [
              "    buying    maint  doors  persons lug_boot   safety    class\n",
              "0    vhigh    vhigh      2      2.0    small      low    unacc\n",
              "1    vhigh    vhigh      2      2.0    small      med    unacc\n",
              "2    vhigh    vhigh      2      3.0    small     high    unacc\n",
              "3    vhigh    vhigh      2      2.0      med      low    unacc\n",
              "4    vhigh    vhigh      2      2.0      med      med    unacc\n",
              "5  Unknown    vhigh      2      2.0      med     high  Unknown\n",
              "6    vhigh    vhigh      2      2.0      big      low    unacc\n",
              "7    vhigh    vhigh      2      2.0      big  Unknown    unacc\n",
              "8    vhigh    vhigh      2      2.0      big     high    unacc\n",
              "9    vhigh  Unknown      2      4.0    small      low    unacc"
            ]
          },
          "execution_count": 5,
          "metadata": {},
          "output_type": "execute_result"
        }
      ],
      "source": [
        "data_frame.fillna(value={'buying': 'Unknown',\\\n",
        "                         'maint': 'Unknown',\\\n",
        "                         'persons': round(data_frame.persons.mean()),\\\n",
        "                         'lug boot': 'Unknown',\\\n",
        "                         'safety': 'Unknown',\\\n",
        "                         'class': 'Unknown',}, inplace=True)\n",
        "\n",
        "data_frame.head(10)"
      ]
    },
    {
      "cell_type": "markdown",
      "metadata": {
        "id": "ksB7wkqpqbdL"
      },
      "source": [
        "## Count the number of distinct unique values for buying, maint, doors, persons, lug_boot, safety, and class."
      ]
    },
    {
      "cell_type": "code",
      "execution_count": 6,
      "metadata": {
        "colab": {
          "base_uri": "https://localhost:8080/"
        },
        "id": "GlilWY6ZszcX",
        "outputId": "cc8aec26-b516-4e32-f9b1-881f7db50489"
      },
      "outputs": [
        {
          "data": {
            "text/plain": [
              "5"
            ]
          },
          "execution_count": 6,
          "metadata": {},
          "output_type": "execute_result"
        }
      ],
      "source": [
        "data_frame['buying'].nunique()"
      ]
    },
    {
      "cell_type": "code",
      "execution_count": 7,
      "metadata": {
        "colab": {
          "base_uri": "https://localhost:8080/"
        },
        "id": "tK208OfitApm",
        "outputId": "7a4e70f5-7ffe-437c-d02f-851581338372"
      },
      "outputs": [
        {
          "data": {
            "text/plain": [
              "5"
            ]
          },
          "execution_count": 7,
          "metadata": {},
          "output_type": "execute_result"
        }
      ],
      "source": [
        "data_frame['maint'].nunique()"
      ]
    },
    {
      "cell_type": "code",
      "execution_count": 8,
      "metadata": {
        "colab": {
          "base_uri": "https://localhost:8080/"
        },
        "id": "hBSb1qFys3OI",
        "outputId": "17541a45-c43c-4421-9ae2-a12c088913d4"
      },
      "outputs": [
        {
          "data": {
            "text/plain": [
              "4"
            ]
          },
          "execution_count": 8,
          "metadata": {},
          "output_type": "execute_result"
        }
      ],
      "source": [
        "data_frame['doors'].nunique()"
      ]
    },
    {
      "cell_type": "code",
      "execution_count": 9,
      "metadata": {
        "colab": {
          "base_uri": "https://localhost:8080/"
        },
        "id": "otjqmtQ1s3Aq",
        "outputId": "8ca837eb-01a7-4621-8469-c74cf2bfef44"
      },
      "outputs": [
        {
          "data": {
            "text/plain": [
              "3"
            ]
          },
          "execution_count": 9,
          "metadata": {},
          "output_type": "execute_result"
        }
      ],
      "source": [
        "data_frame['persons'].nunique()"
      ]
    },
    {
      "cell_type": "code",
      "execution_count": 10,
      "metadata": {
        "colab": {
          "base_uri": "https://localhost:8080/"
        },
        "id": "KSr5vifcs2mT",
        "outputId": "d1279c4d-cc7d-4b2a-f47e-867888e6276a"
      },
      "outputs": [
        {
          "data": {
            "text/plain": [
              "3"
            ]
          },
          "execution_count": 10,
          "metadata": {},
          "output_type": "execute_result"
        }
      ],
      "source": [
        "data_frame['lug_boot'].nunique()"
      ]
    },
    {
      "cell_type": "code",
      "execution_count": 11,
      "metadata": {
        "colab": {
          "base_uri": "https://localhost:8080/"
        },
        "id": "ncM0h2xAs2NH",
        "outputId": "2838a13e-8f27-4e84-9373-b1bd6384fc3b"
      },
      "outputs": [
        {
          "data": {
            "text/plain": [
              "4"
            ]
          },
          "execution_count": 11,
          "metadata": {},
          "output_type": "execute_result"
        }
      ],
      "source": [
        "data_frame['safety'].nunique()"
      ]
    },
    {
      "cell_type": "code",
      "execution_count": 12,
      "metadata": {
        "colab": {
          "base_uri": "https://localhost:8080/"
        },
        "id": "DjjL_WnKs0yF",
        "outputId": "a894cf4d-7139-4b26-a544-04a2ed45748c"
      },
      "outputs": [
        {
          "data": {
            "text/plain": [
              "5"
            ]
          },
          "execution_count": 12,
          "metadata": {},
          "output_type": "execute_result"
        }
      ],
      "source": [
        "data_frame['class'].nunique()"
      ]
    },
    {
      "cell_type": "markdown",
      "metadata": {
        "id": "WsPPndMIqbHj"
      },
      "source": [
        "## Convert the object columns into category columns and the float64 columns into int64 columns, where appropriate, and display them:"
      ]
    },
    {
      "cell_type": "markdown",
      "metadata": {
        "id": "rzaT3sxrt3nh"
      },
      "source": [
        " 0   buying    1727 non-null   object >>> category\n",
        "\n",
        " 1   maint     1727 non-null   object >>> category\n",
        "\n",
        " 2   doors     1728 non-null   int64\n",
        "\n",
        " 3   persons   1151 non-null   float64>>> int\n",
        "\n",
        " 4   lug_boot  1728 non-null   object >>> category\n",
        "\n",
        " 5   safety    1727 non-null   object >>> category\n",
        "\n",
        " 6   class     1727 non-null   object >>> category"
      ]
    },
    {
      "cell_type": "code",
      "execution_count": 13,
      "metadata": {
        "id": "vzniL4BduZEE"
      },
      "outputs": [],
      "source": [
        "data_frame = data_frame.astype({'buying': 'category',\\\n",
        "                                'maint': 'category',\\\n",
        "                                'persons': 'int',\\\n",
        "                                'lug_boot': 'category',\\\n",
        "                                'safety': 'category',\\\n",
        "                                'class': 'category'})"
      ]
    },
    {
      "cell_type": "markdown",
      "metadata": {
        "id": "bVRPV-kDqrB-"
      },
      "source": [
        "## Finally, display the data types of each column in the DataFrame. You should see the following output:"
      ]
    },
    {
      "cell_type": "code",
      "execution_count": 14,
      "metadata": {
        "colab": {
          "base_uri": "https://localhost:8080/"
        },
        "id": "Y60ALUhmqwQ7",
        "outputId": "ca877ec6-93c7-441f-a02e-0b8b05a749b0"
      },
      "outputs": [
        {
          "name": "stdout",
          "output_type": "stream",
          "text": [
            "<class 'pandas.core.frame.DataFrame'>\n",
            "RangeIndex: 1728 entries, 0 to 1727\n",
            "Data columns (total 7 columns):\n",
            " #   Column    Non-Null Count  Dtype   \n",
            "---  ------    --------------  -----   \n",
            " 0   buying    1728 non-null   category\n",
            " 1   maint     1728 non-null   category\n",
            " 2   doors     1728 non-null   int64   \n",
            " 3   persons   1728 non-null   int32   \n",
            " 4   lug_boot  1728 non-null   category\n",
            " 5   safety    1728 non-null   category\n",
            " 6   class     1728 non-null   category\n",
            "dtypes: category(5), int32(1), int64(1)\n",
            "memory usage: 29.8 KB\n"
          ]
        }
      ],
      "source": [
        "data_frame.info()"
      ]
    }
  ],
  "metadata": {
    "colab": {
      "provenance": []
    },
    "kernelspec": {
      "display_name": "Python 3",
      "name": "python3"
    },
    "language_info": {
      "codemirror_mode": {
        "name": "ipython",
        "version": 3
      },
      "file_extension": ".py",
      "mimetype": "text/x-python",
      "name": "python",
      "nbconvert_exporter": "python",
      "pygments_lexer": "ipython3",
      "version": "3.11.3"
    }
  },
  "nbformat": 4,
  "nbformat_minor": 0
}
