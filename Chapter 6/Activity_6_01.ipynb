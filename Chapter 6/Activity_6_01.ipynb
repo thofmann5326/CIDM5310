{
  "nbformat": 4,
  "nbformat_minor": 0,
  "metadata": {
    "colab": {
      "provenance": []
    },
    "kernelspec": {
      "name": "python3",
      "display_name": "Python 3"
    },
    "language_info": {
      "name": "python"
    }
  },
  "cells": [
    {
      "cell_type": "markdown",
      "source": [
        "# Activity 6.01 – Series data selection"
      ],
      "metadata": {
        "id": "RjND2LYm4jcC"
      }
    },
    {
      "cell_type": "markdown",
      "source": [
        "## For this activity, all you will need is the pandas library. Load it into the first cell of the notebook."
      ],
      "metadata": {
        "id": "SOJ7fHVC4n2n"
      }
    },
    {
      "cell_type": "code",
      "source": [
        "import pandas as pd"
      ],
      "metadata": {
        "id": "HO_u_mmK5KId"
      },
      "execution_count": 1,
      "outputs": []
    },
    {
      "cell_type": "markdown",
      "source": [
        "## Read in a pandas Series from the US_Census_SUB-IP-EST2019-ANNRNK_top_20_2010.csv file. This data is from the US Census Bureau (source: https://www2.census.gov/programs-surveys/popest/datasets/2010/2010-eval-estimates/). The city names are in the first column, so read them so that they are used as the indexes. List the resulting Series."
      ],
      "metadata": {
        "id": "A60x72IF4qh1"
      }
    },
    {
      "cell_type": "code",
      "source": [
        "raw_url_1 = \"https://raw.githubusercontent.com/PacktWorkshops/The-Pandas-Workshop/master/Chapter06/Datasets/US_Census_SUB-IP-EST2019-ANNRNK_top_20_2010.csv\"\n",
        "\n",
        "populations_2010 = pd.read_csv(raw_url_1, index_col = [0]).squeeze(\"columns\")\n",
        "populations_2010"
      ],
      "metadata": {
        "colab": {
          "base_uri": "https://localhost:8080/"
        },
        "id": "vh_qOO4B5KkK",
        "outputId": "147f9a50-3791-482c-d96e-d384458e3f4a"
      },
      "execution_count": 4,
      "outputs": [
        {
          "output_type": "execute_result",
          "data": {
            "text/plain": [
              "City\n",
              "New York                8190209\n",
              "Los Angeles             3795512\n",
              "Chicago                 2697477\n",
              "Houston                 2100280\n",
              "Phoenix                 1449038\n",
              "Philadelphia            1528283\n",
              "San Antonio             1332299\n",
              "San Diego               1305906\n",
              "Dallas                  1200350\n",
              "San Jose                 954940\n",
              "Austin                   806164\n",
              "Jacksonville             823114\n",
              "Fort Worth               748441\n",
              "Columbus                 790943\n",
              "Charlotte                738444\n",
              "San Francisco            805505\n",
              "Indianapolis             821579\n",
              "Seattle                  610630\n",
              "Denver                   603359\n",
              "District of Columbia     605226\n",
              "Name: 2010, dtype: int64"
            ]
          },
          "metadata": {},
          "execution_count": 4
        }
      ]
    },
    {
      "cell_type": "markdown",
      "source": [
        "## Calculate the total population of the three largest cities in the 2010 Series (New York, Los Angeles, and Chicago) and save the result in a variable."
      ],
      "metadata": {
        "id": "Wavcc1tI4t1d"
      }
    },
    {
      "cell_type": "code",
      "source": [
        "largest_3_2010 = sum(populations_2010[['New York', 'Los Angeles', 'Chicago']])\n",
        "largest_3_2010"
      ],
      "metadata": {
        "colab": {
          "base_uri": "https://localhost:8080/"
        },
        "id": "4CnGWy4K5LeF",
        "outputId": "90ea04ec-312b-4017-e41d-316f379d2571"
      },
      "execution_count": 9,
      "outputs": [
        {
          "output_type": "execute_result",
          "data": {
            "text/plain": [
              "14683198"
            ]
          },
          "metadata": {},
          "execution_count": 9
        }
      ]
    },
    {
      "cell_type": "markdown",
      "source": [
        "## Read in the corresponding data for 2019 from the US_Census_SUB-IPEST2019-ANNRNK_top_20_2019.csv file, again using the first column as the index and reading the data into a Series. This data is from the US Census Bureau (source: https://www2.census.gov/programs-surveys/popest/tables/2010-2019/cities/totals/)."
      ],
      "metadata": {
        "id": "Iy_jy-eh4vk2"
      }
    },
    {
      "cell_type": "code",
      "source": [
        "raw_url_2 = \"https://raw.githubusercontent.com/PacktWorkshops/The-Pandas-Workshop/master/Chapter06/Datasets/US_Census_SUB-IP-EST2019-ANNRNK_top_20_2019.csv\"\n",
        "\n",
        "populations_2019 = pd.read_csv(raw_url_2, index_col = [0]).squeeze(\"columns\")\n",
        "populations_2019"
      ],
      "metadata": {
        "colab": {
          "base_uri": "https://localhost:8080/"
        },
        "id": "QTWJD6AK5L8E",
        "outputId": "0dbcf712-a528-4b90-da0f-a1c625fb2563"
      },
      "execution_count": 8,
      "outputs": [
        {
          "output_type": "execute_result",
          "data": {
            "text/plain": [
              "City\n",
              "New York                8336817\n",
              "Los Angeles             3979576\n",
              "Chicago                 2693976\n",
              "Houston                 2320268\n",
              "Phoenix                 1680992\n",
              "Philadelphia            1584064\n",
              "San Antonio             1547253\n",
              "San Diego               1423851\n",
              "Dallas                  1343573\n",
              "San Jose                1021795\n",
              "Austin                   978908\n",
              "Jacksonville             911507\n",
              "Fort Worth               909585\n",
              "Columbus                 898553\n",
              "Charlotte                885708\n",
              "San Francisco            881549\n",
              "Indianapolis             876384\n",
              "Seattle                  753675\n",
              "Denver                   727211\n",
              "District of Columbia     705749\n",
              "Name: 2019, dtype: int64"
            ]
          },
          "metadata": {},
          "execution_count": 8
        }
      ]
    },
    {
      "cell_type": "markdown",
      "source": [
        "## Calculate the total population for the same three cities in the 2019 Series and save the result in a variable."
      ],
      "metadata": {
        "id": "LAYC5n4B4xEa"
      }
    },
    {
      "cell_type": "code",
      "source": [
        "largest_3_2019 = sum(populations_2019[['New York', 'Los Angeles', 'Chicago']])\n",
        "largest_3_2019"
      ],
      "metadata": {
        "colab": {
          "base_uri": "https://localhost:8080/"
        },
        "id": "Du6cxozZ5MT4",
        "outputId": "ec476305-c3fd-4002-bc9d-043e00db6e06"
      },
      "execution_count": 10,
      "outputs": [
        {
          "output_type": "execute_result",
          "data": {
            "text/plain": [
              "15010369"
            ]
          },
          "metadata": {},
          "execution_count": 10
        }
      ]
    },
    {
      "cell_type": "markdown",
      "source": [
        "## Using the saved values, calculate the percent change from 2010 to 2019 for the three cities. Also, calculate the percent change for all the cities. Print out a comparison of the changes for the three cities versus all cities. The result should be similar to the following:"
      ],
      "metadata": {
        "id": "VLNLR2Hc4ya6"
      }
    },
    {
      "cell_type": "code",
      "source": [
        "largest_3_change = 100 * (largest_3_2019 - largest_3_2010) / largest_3_2010\n",
        "all_change = 100 * sum(populations_2019 - populations_2010)/ sum(populations_2010)\n",
        "print('top 3 changed', str(round(largest_3_change, 1)), '%\\n', 'vs. all changed', str(round(all_change, 1)), '%')"
      ],
      "metadata": {
        "colab": {
          "base_uri": "https://localhost:8080/"
        },
        "id": "4EYgrxTG5NTd",
        "outputId": "279cdddc-fb73-4085-b836-e70e732bd9bd"
      },
      "execution_count": 17,
      "outputs": [
        {
          "output_type": "stream",
          "name": "stdout",
          "text": [
            "top 3 changed 2.2 %\n",
            " vs. all changed 8.0 %\n"
          ]
        }
      ]
    }
  ]
}